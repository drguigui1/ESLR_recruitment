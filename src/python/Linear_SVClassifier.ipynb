{
 "cells": [
  {
   "cell_type": "code",
   "execution_count": 0,
   "metadata": {
    "colab": {},
    "colab_type": "code",
    "id": "TS1BYKdH8mVA"
   },
   "outputs": [],
   "source": [
    "from google.colab import drive\n",
    "drive.mount('/content/drive')"
   ]
  },
  {
   "cell_type": "code",
   "execution_count": 0,
   "metadata": {
    "colab": {},
    "colab_type": "code",
    "id": "arFOV0238rv7"
   },
   "outputs": [],
   "source": [
    "import numpy as np\n",
    "import matplotlib.pyplot as plt\n",
    "from sklearn import preprocessing\n",
    "from sklearn import linear_model\n",
    "from sklearn.utils import shuffle"
   ]
  },
  {
   "cell_type": "code",
   "execution_count": 0,
   "metadata": {
    "colab": {},
    "colab_type": "code",
    "id": "0c2i-Se58-xt"
   },
   "outputs": [],
   "source": [
    "x_train = np.memmap('drive/My Drive/Xtrain.dat', shape=(600000, 2351), dtype=np.float32)\n",
    "y_train = np.memmap('drive/My Drive/Ytrain.dat', dtype=np.float32)\n",
    "# 0 for benign (nb of elm => 300000)\n",
    "# 1 for malicious (nb of elm => 300000)"
   ]
  },
  {
   "cell_type": "code",
   "execution_count": 0,
   "metadata": {
    "colab": {},
    "colab_type": "code",
    "id": "RG7OakSQ9AZ6"
   },
   "outputs": [],
   "source": [
    "# normalization (standard normalization)\n",
    "std_scaler = preprocessing.StandardScaler()\n",
    "x_train = std_scaler.fit_transform(x_train)"
   ]
  },
  {
   "cell_type": "code",
   "execution_count": 0,
   "metadata": {
    "colab": {},
    "colab_type": "code",
    "id": "3di88jsO-crI"
   },
   "outputs": [],
   "source": [
    "x_train, y_train = shuffle(x_train, y_train)"
   ]
  },
  {
   "cell_type": "code",
   "execution_count": 14,
   "metadata": {
    "colab": {
     "base_uri": "https://localhost:8080/",
     "height": 121
    },
    "colab_type": "code",
    "id": "dBpcE2wj9EQU",
    "outputId": "5717e9a4-f01f-444c-f5dd-f19bd47d325c"
   },
   "outputs": [
    {
     "name": "stdout",
     "output_type": "stream",
     "text": [
      "(550000, 2351)\n",
      "(550000,)\n",
      "(50000, 2351)\n",
      "(50000,)\n",
      "(50000, 2351)\n",
      "(50000,)\n"
     ]
    }
   ],
   "source": [
    "# split the data into two parts (training set and test set)\n",
    "x_train, x_test = x_train[:550000], x_train[550000:]\n",
    "y_train, y_test = y_train[:550000], y_train[550000:]\n",
    "\n",
    "print(x_train.shape)\n",
    "print(y_train.shape)\n",
    "print(x_test.shape)\n",
    "print(y_test.shape)\n",
    "\n",
    "# create validation set\n",
    "x_validation, y_validation = x_train[500000:], y_train[500000:]\n",
    "print(x_validation.shape)\n",
    "print(y_validation.shape)"
   ]
  },
  {
   "cell_type": "code",
   "execution_count": 0,
   "metadata": {
    "colab": {},
    "colab_type": "code",
    "id": "i3oUQbsO-VAd"
   },
   "outputs": [],
   "source": [
    "# nbr of iteration\n",
    "it = 10\n",
    "# size of one batch\n",
    "batch_size = 10000\n",
    "# nbr of batch\n",
    "nb_batch = 500000 // batch_size"
   ]
  },
  {
   "cell_type": "code",
   "execution_count": 0,
   "metadata": {
    "colab": {},
    "colab_type": "code",
    "id": "PvWbyOte-Y6_"
   },
   "outputs": [],
   "source": [
    "# function for prediction\n",
    "def predict_model(datas, labels, model):\n",
    "  '''\n",
    "  predict according to our model\n",
    "  '''\n",
    "  m = len(datas) # total nbr of data\n",
    "  good_pred = 0 # nbr of good prediction\n",
    "  for i in range(m):\n",
    "    res = model.predict(np.array([datas[i]]))[0] # get the result\n",
    "    label = labels[i]\n",
    "    if res == label:\n",
    "      good_pred += 1\n",
    "  return good_pred / m"
   ]
  },
  {
   "cell_type": "code",
   "execution_count": 0,
   "metadata": {
    "colab": {},
    "colab_type": "code",
    "id": "RPF7d8rkVkIe"
   },
   "outputs": [],
   "source": [
    "# create the model\n",
    "# loss = 'hinge' <=> to linear SVClassifier\n",
    "model = linear_model.SGDClassifier(shuffle=True, loss='hinge')"
   ]
  },
  {
   "cell_type": "code",
   "execution_count": 0,
   "metadata": {
    "colab": {},
    "colab_type": "code",
    "id": "sonPgvvdVtmx"
   },
   "outputs": [],
   "source": [
    "def fit_model(model):\n",
    "  '''\n",
    "  fit our model\n",
    "  '''\n",
    "  # fit the model\n",
    "  for i in range(it):\n",
    "    print(\"Epoch nbr {}\".format(i + 1))\n",
    "    inf = 0\n",
    "    supp = 10000\n",
    "    for j in range(nb_batch):\n",
    "      print(\"=\", end='')\n",
    "      x_train_sub, y_train_sub = x_train[inf:supp], y_train[inf:supp]\n",
    "      model.partial_fit(x_train_sub, y_train_sub, classes=np.unique(y_train))\n",
    "      inf += batch_size\n",
    "      supp += batch_size\n",
    "    print()\n",
    "    # validation set\n",
    "    acc_val = predict_model(x_validation, y_validation, model)\n",
    "    print(\"validation accuracy: {}\".format(acc_val))\n",
    "    print('--------------------')\n",
    "    print('--------------------')"
   ]
  },
  {
   "cell_type": "code",
   "execution_count": 24,
   "metadata": {
    "colab": {
     "base_uri": "https://localhost:8080/",
     "height": 885
    },
    "colab_type": "code",
    "id": "4dZWeLq2V4Tz",
    "outputId": "75df5966-1240-4492-a3d9-e066ae98be03"
   },
   "outputs": [
    {
     "name": "stdout",
     "output_type": "stream",
     "text": [
      "Epoch nbr 1\n",
      "==================================================\n",
      "validation accuracy: 0.95402\n",
      "--------------------\n",
      "--------------------\n",
      "Epoch nbr 2\n",
      "==================================================\n",
      "validation accuracy: 0.95918\n",
      "--------------------\n",
      "--------------------\n",
      "Epoch nbr 3\n",
      "==================================================\n",
      "validation accuracy: 0.95532\n",
      "--------------------\n",
      "--------------------\n",
      "Epoch nbr 4\n",
      "==================================================\n",
      "validation accuracy: 0.9541\n",
      "--------------------\n",
      "--------------------\n",
      "Epoch nbr 5\n",
      "==================================================\n",
      "validation accuracy: 0.96152\n",
      "--------------------\n",
      "--------------------\n",
      "Epoch nbr 6\n",
      "==================================================\n",
      "validation accuracy: 0.95688\n",
      "--------------------\n",
      "--------------------\n",
      "Epoch nbr 7\n",
      "==================================================\n",
      "validation accuracy: 0.96264\n",
      "--------------------\n",
      "--------------------\n",
      "Epoch nbr 8\n",
      "==================================================\n",
      "validation accuracy: 0.96382\n",
      "--------------------\n",
      "--------------------\n",
      "Epoch nbr 9\n",
      "==================================================\n",
      "validation accuracy: 0.95924\n",
      "--------------------\n",
      "--------------------\n",
      "Epoch nbr 10\n",
      "==================================================\n",
      "validation accuracy: 0.9654\n",
      "--------------------\n",
      "--------------------\n"
     ]
    }
   ],
   "source": [
    "fit_model(model)"
   ]
  },
  {
   "cell_type": "code",
   "execution_count": 0,
   "metadata": {
    "colab": {},
    "colab_type": "code",
    "id": "LhTqGZIiV9fE"
   },
   "outputs": [],
   "source": [
    "acc = predict_model(x_test, y_test, model)"
   ]
  },
  {
   "cell_type": "code",
   "execution_count": 26,
   "metadata": {
    "colab": {
     "base_uri": "https://localhost:8080/",
     "height": 34
    },
    "colab_type": "code",
    "id": "5gQPlbzjWcml",
    "outputId": "c3392ffe-2571-4d19-dfb0-b90e4b577c4e"
   },
   "outputs": [
    {
     "name": "stdout",
     "output_type": "stream",
     "text": [
      "0.96482\n"
     ]
    }
   ],
   "source": [
    "print(acc)"
   ]
  },
  {
   "cell_type": "code",
   "execution_count": 0,
   "metadata": {
    "colab": {},
    "colab_type": "code",
    "id": "FMysbVZRWeQV"
   },
   "outputs": [],
   "source": []
  }
 ],
 "metadata": {
  "colab": {
   "machine_shape": "hm",
   "name": "Linear_SVClassifier.ipynb",
   "provenance": []
  },
  "kernelspec": {
   "display_name": "Python 3",
   "language": "python",
   "name": "python3"
  },
  "language_info": {
   "codemirror_mode": {
    "name": "ipython",
    "version": 3
   },
   "file_extension": ".py",
   "mimetype": "text/x-python",
   "name": "python",
   "nbconvert_exporter": "python",
   "pygments_lexer": "ipython3",
   "version": "3.7.4"
  }
 },
 "nbformat": 4,
 "nbformat_minor": 1
}
