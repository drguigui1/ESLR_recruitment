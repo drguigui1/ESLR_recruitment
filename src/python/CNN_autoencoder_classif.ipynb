{
  "nbformat": 4,
  "nbformat_minor": 0,
  "metadata": {
    "colab": {
      "name": "CNN_autoencoder_classif.ipynb",
      "provenance": [],
      "machine_shape": "hm"
    },
    "kernelspec": {
      "name": "python3",
      "display_name": "Python 3"
    },
    "accelerator": "GPU"
  },
  "cells": [
    {
      "cell_type": "code",
      "metadata": {
        "id": "zrqhWn6uz-X9",
        "colab_type": "code",
        "outputId": "4a6d4258-799d-4d7d-cbe0-81f5b057cc87",
        "colab": {
          "base_uri": "https://localhost:8080/",
          "height": 124
        }
      },
      "source": [
        "from google.colab import drive\n",
        "drive.mount('/content/drive')"
      ],
      "execution_count": 1,
      "outputs": [
        {
          "output_type": "stream",
          "text": [
            "Go to this URL in a browser: https://accounts.google.com/o/oauth2/auth?client_id=947318989803-6bn6qk8qdgf4n4g3pfee6491hc0brc4i.apps.googleusercontent.com&redirect_uri=urn%3aietf%3awg%3aoauth%3a2.0%3aoob&response_type=code&scope=email%20https%3a%2f%2fwww.googleapis.com%2fauth%2fdocs.test%20https%3a%2f%2fwww.googleapis.com%2fauth%2fdrive%20https%3a%2f%2fwww.googleapis.com%2fauth%2fdrive.photos.readonly%20https%3a%2f%2fwww.googleapis.com%2fauth%2fpeopleapi.readonly\n",
            "\n",
            "Enter your authorization code:\n",
            "··········\n",
            "Mounted at /content/drive\n"
          ],
          "name": "stdout"
        }
      ]
    },
    {
      "cell_type": "code",
      "metadata": {
        "id": "SIfERRmt3Lah",
        "colab_type": "code",
        "colab": {}
      },
      "source": [
        "import numpy as np\n",
        "from sklearn import preprocessing\n",
        "import matplotlib.pyplot as plt"
      ],
      "execution_count": 0,
      "outputs": []
    },
    {
      "cell_type": "code",
      "metadata": {
        "id": "sX8MqZ403XNy",
        "colab_type": "code",
        "colab": {}
      },
      "source": [
        "x_train = np.memmap('drive/My Drive/Xtrain.dat', shape=(600000, 2351), dtype=np.float32)\n",
        "y_train = np.memmap('drive/My Drive/Ytrain.dat', dtype=np.float32)\n",
        "# 0 for benign (nb of elm => 300000)\n",
        "# 1 for malicious (nb of elm => 300000)"
      ],
      "execution_count": 0,
      "outputs": []
    },
    {
      "cell_type": "code",
      "metadata": {
        "id": "Pk-Fpr9J3ZGP",
        "colab_type": "code",
        "outputId": "8ba85fda-2e54-4bbc-8fc7-d949c70ece6d",
        "colab": {
          "base_uri": "https://localhost:8080/",
          "height": 52
        }
      },
      "source": [
        "# dimension reduction\n",
        "print(x_train.shape)\n",
        "x_train = np.delete(x_train, np.s_[-47:], axis=1)\n",
        "print(x_train.shape)"
      ],
      "execution_count": 4,
      "outputs": [
        {
          "output_type": "stream",
          "text": [
            "(600000, 2351)\n",
            "(600000, 2304)\n"
          ],
          "name": "stdout"
        }
      ]
    },
    {
      "cell_type": "code",
      "metadata": {
        "id": "-xzLtu2k3cm_",
        "colab_type": "code",
        "colab": {}
      },
      "source": [
        "# normalize data for printing (pixels range: [0, 255])\n",
        "min_max_scaler = preprocessing.MinMaxScaler((0, 255), copy=False)\n",
        "x_train = min_max_scaler.fit_transform(x_train)"
      ],
      "execution_count": 0,
      "outputs": []
    },
    {
      "cell_type": "code",
      "metadata": {
        "id": "Wek8SXZo34Hn",
        "colab_type": "code",
        "colab": {}
      },
      "source": [
        "# reshape the data to consider vectors as images\n",
        "x_train = np.reshape(x_train, (600000, 48, 48))"
      ],
      "execution_count": 0,
      "outputs": []
    },
    {
      "cell_type": "code",
      "metadata": {
        "id": "GcJDcWtm6l7d",
        "colab_type": "code",
        "colab": {}
      },
      "source": [
        "x_train = x_train / 255.0"
      ],
      "execution_count": 0,
      "outputs": []
    },
    {
      "cell_type": "code",
      "metadata": {
        "id": "E1_ivc-_6pG4",
        "colab_type": "code",
        "colab": {}
      },
      "source": [
        "# define the classes\n",
        "classes = ['benign', 'malicious']"
      ],
      "execution_count": 0,
      "outputs": []
    },
    {
      "cell_type": "code",
      "metadata": {
        "id": "YFhOqJTg6tEs",
        "colab_type": "code",
        "outputId": "aeed09c4-b44e-4d38-f72c-d80c3cfa1ae1",
        "colab": {
          "base_uri": "https://localhost:8080/",
          "height": 364
        }
      },
      "source": [
        "# graphical representation of the malwares\n",
        "plt.figure(figsize=(10,10))\n",
        "cpt = 1\n",
        "for i in range(50000, 50015):\n",
        "  plt.subplot(5, 5, cpt)\n",
        "  plt.xticks([])\n",
        "  plt.yticks([])\n",
        "  plt.grid(False)\n",
        "  plt.imshow(x_train[i], cmap='gray')\n",
        "  plt.xlabel(classes[int(y_train[i])])\n",
        "  cpt += 1\n",
        "plt.show()"
      ],
      "execution_count": 9,
      "outputs": [
        {
          "output_type": "display_data",
          "data": {
            "image/png": "[encoded data removed]",
            "text/plain": [
              "<Figure size 720x720 with 15 Axes>"
            ]
          },
          "metadata": {
            "tags": []
          }
        }
      ]
    },
    {
      "cell_type": "code",
      "metadata": {
        "id": "qPQwovmU6vAe",
        "colab_type": "code",
        "colab": {}
      },
      "source": [
        "# reshpe for CNN\n",
        "x_train = np.reshape(x_train, (600000, 48, 48, 1))"
      ],
      "execution_count": 0,
      "outputs": []
    },
    {
      "cell_type": "code",
      "metadata": {
        "id": "6br6J8gN7AtT",
        "colab_type": "code",
        "outputId": "6eeb02d1-ced1-4f7b-a641-e3fade27b057",
        "colab": {
          "base_uri": "https://localhost:8080/",
          "height": 86
        }
      },
      "source": [
        "# split the data into two parts (training set and test set)\n",
        "x_train, x_test = x_train[:550000], x_train[550000:]\n",
        "y_train, y_test = y_train[:550000], y_train[550000:]\n",
        "\n",
        "print(x_train.shape)\n",
        "print(y_train.shape)\n",
        "print(x_test.shape)\n",
        "print(y_test.shape)"
      ],
      "execution_count": 11,
      "outputs": [
        {
          "output_type": "stream",
          "text": [
            "(550000, 48, 48, 1)\n",
            "(550000,)\n",
            "(50000, 48, 48, 1)\n",
            "(50000,)\n"
          ],
          "name": "stdout"
        }
      ]
    },
    {
      "cell_type": "code",
      "metadata": {
        "id": "VINIjI-d7CmR",
        "colab_type": "code",
        "colab": {}
      },
      "source": [
        "from keras.models import Sequential, Model, load_model\n",
        "from keras.layers import Conv2D, MaxPooling2D, Dense, Flatten, Input, UpSampling2D, normalization\n",
        "from keras import optimizers"
      ],
      "execution_count": 0,
      "outputs": []
    },
    {
      "cell_type": "code",
      "metadata": {
        "id": "oO-EMNL37dti",
        "colab_type": "code",
        "colab": {}
      },
      "source": [
        "# link our layers\n",
        "\n",
        "# input 48 x 48 x 1 \n",
        "input_vect = Input(shape=(48, 48, 1))\n",
        "\n",
        "# encoder\n",
        "\n",
        "# block 1\n",
        "encoder = Conv2D(8, (3, 3), activation='relu', padding='same') (input_vect)\n",
        "norm = normalization.BatchNormalization() (encoder)\n",
        "block1 = MaxPooling2D(pool_size=(2, 2)) (norm)\n",
        "\n",
        "# block 2\n",
        "encoder = Conv2D(16, (3,3), activation='relu', padding='same') (block1)\n",
        "block2 = normalization.BatchNormalization() (encoder)\n",
        "\n",
        "# decoder\n",
        "\n",
        "# block 3\n",
        "decoder = Conv2D(8, (3, 3), activation='relu', padding='same') (block2)\n",
        "norm = normalization.BatchNormalization() (decoder)\n",
        "block3 = UpSampling2D((2, 2)) (norm)\n",
        "\n",
        "# block 4 (reconstruct the input)\n",
        "out_vect = Conv2D(1, (3, 3), activation='sigmoid', padding='same') (block3)"
      ],
      "execution_count": 0,
      "outputs": []
    },
    {
      "cell_type": "code",
      "metadata": {
        "id": "oKTr_aPCnVNg",
        "colab_type": "code",
        "colab": {}
      },
      "source": [
        "# create our model\n",
        "autoencoder = Model(input_vect, out_vect)"
      ],
      "execution_count": 0,
      "outputs": []
    },
    {
      "cell_type": "code",
      "metadata": {
        "id": "tUBddQ3poZR1",
        "colab_type": "code",
        "outputId": "5ec4fe06-396b-4d67-cac5-240fc373b29d",
        "colab": {
          "base_uri": "https://localhost:8080/",
          "height": 503
        }
      },
      "source": [
        "autoencoder.summary()"
      ],
      "execution_count": 20,
      "outputs": [
        {
          "output_type": "stream",
          "text": [
            "Model: \"model_2\"\n",
            "_________________________________________________________________\n",
            "Layer (type)                 Output Shape              Param #   \n",
            "=================================================================\n",
            "input_2 (InputLayer)         (None, 48, 48, 1)         0         \n",
            "_________________________________________________________________\n",
            "conv2d_5 (Conv2D)            (None, 48, 48, 8)         80        \n",
            "_________________________________________________________________\n",
            "batch_normalization_4 (Batch (None, 48, 48, 8)         32        \n",
            "_________________________________________________________________\n",
            "max_pooling2d_2 (MaxPooling2 (None, 24, 24, 8)         0         \n",
            "_________________________________________________________________\n",
            "conv2d_6 (Conv2D)            (None, 24, 24, 16)        1168      \n",
            "_________________________________________________________________\n",
            "batch_normalization_5 (Batch (None, 24, 24, 16)        64        \n",
            "_________________________________________________________________\n",
            "conv2d_7 (Conv2D)            (None, 24, 24, 8)         1160      \n",
            "_________________________________________________________________\n",
            "batch_normalization_6 (Batch (None, 24, 24, 8)         32        \n",
            "_________________________________________________________________\n",
            "up_sampling2d_2 (UpSampling2 (None, 48, 48, 8)         0         \n",
            "_________________________________________________________________\n",
            "conv2d_8 (Conv2D)            (None, 48, 48, 1)         73        \n",
            "=================================================================\n",
            "Total params: 2,609\n",
            "Trainable params: 2,545\n",
            "Non-trainable params: 64\n",
            "_________________________________________________________________\n"
          ],
          "name": "stdout"
        }
      ]
    },
    {
      "cell_type": "code",
      "metadata": {
        "id": "Vt6bFaoSn_ok",
        "colab_type": "code",
        "colab": {}
      },
      "source": [
        "# compile our model\n",
        "autoencoder.compile(loss=\"mean_squared_error\", optimizer='adam')"
      ],
      "execution_count": 0,
      "outputs": []
    },
    {
      "cell_type": "code",
      "metadata": {
        "id": "jdsjZhGVo991",
        "colab_type": "code",
        "outputId": "d18a62f2-8af1-4eb5-f47a-36e213b9bf23",
        "colab": {
          "base_uri": "https://localhost:8080/",
          "height": 382
        }
      },
      "source": [
        "# fit our autoencoder\n",
        "h1 = autoencoder.fit(x_train, x_train, validation_split=0.2, epochs=10, batch_size=256)"
      ],
      "execution_count": 22,
      "outputs": [
        {
          "output_type": "stream",
          "text": [
            "Train on 440000 samples, validate on 110000 samples\n",
            "Epoch 1/10\n",
            "440000/440000 [==============================] - 26s 60us/step - loss: 0.0164 - val_loss: 0.0061\n",
            "Epoch 2/10\n",
            "440000/440000 [==============================] - 26s 59us/step - loss: 0.0048 - val_loss: 0.0044\n",
            "Epoch 3/10\n",
            "440000/440000 [==============================] - 26s 59us/step - loss: 0.0040 - val_loss: 0.0039\n",
            "Epoch 4/10\n",
            "440000/440000 [==============================] - 26s 59us/step - loss: 0.0037 - val_loss: 0.0036\n",
            "Epoch 5/10\n",
            "440000/440000 [==============================] - 26s 60us/step - loss: 0.0035 - val_loss: 0.0035\n",
            "Epoch 6/10\n",
            "440000/440000 [==============================] - 26s 59us/step - loss: 0.0034 - val_loss: 0.0033\n",
            "Epoch 7/10\n",
            "440000/440000 [==============================] - 26s 59us/step - loss: 0.0032 - val_loss: 0.0032\n",
            "Epoch 8/10\n",
            "440000/440000 [==============================] - 26s 60us/step - loss: 0.0031 - val_loss: 0.0031\n",
            "Epoch 9/10\n",
            "440000/440000 [==============================] - 26s 60us/step - loss: 0.0030 - val_loss: 0.0030\n",
            "Epoch 10/10\n",
            "440000/440000 [==============================] - 26s 59us/step - loss: 0.0030 - val_loss: 0.0030\n"
          ],
          "name": "stdout"
        }
      ]
    },
    {
      "cell_type": "code",
      "metadata": {
        "id": "ethMWPU3uVHU",
        "colab_type": "code",
        "colab": {}
      },
      "source": [
        "# create the model after autoencoder training\n",
        "\n",
        "input_l = Flatten() (out_vect)\n",
        "hidden = Dense(400, activation='relu') (input_l)\n",
        "l_end = Dense(1, activation='sigmoid') (hidden)\n",
        "\n",
        "# full model\n",
        "model = Model(input_vect, l_end)"
      ],
      "execution_count": 0,
      "outputs": []
    },
    {
      "cell_type": "code",
      "metadata": {
        "id": "Y7sv5bdrvRtK",
        "colab_type": "code",
        "colab": {
          "base_uri": "https://localhost:8080/",
          "height": 607
        },
        "outputId": "80606d82-b609-4fe4-a170-6439d3a3f12d"
      },
      "source": [
        "model.summary()"
      ],
      "execution_count": 24,
      "outputs": [
        {
          "output_type": "stream",
          "text": [
            "Model: \"model_3\"\n",
            "_________________________________________________________________\n",
            "Layer (type)                 Output Shape              Param #   \n",
            "=================================================================\n",
            "input_2 (InputLayer)         (None, 48, 48, 1)         0         \n",
            "_________________________________________________________________\n",
            "conv2d_5 (Conv2D)            (None, 48, 48, 8)         80        \n",
            "_________________________________________________________________\n",
            "batch_normalization_4 (Batch (None, 48, 48, 8)         32        \n",
            "_________________________________________________________________\n",
            "max_pooling2d_2 (MaxPooling2 (None, 24, 24, 8)         0         \n",
            "_________________________________________________________________\n",
            "conv2d_6 (Conv2D)            (None, 24, 24, 16)        1168      \n",
            "_________________________________________________________________\n",
            "batch_normalization_5 (Batch (None, 24, 24, 16)        64        \n",
            "_________________________________________________________________\n",
            "conv2d_7 (Conv2D)            (None, 24, 24, 8)         1160      \n",
            "_________________________________________________________________\n",
            "batch_normalization_6 (Batch (None, 24, 24, 8)         32        \n",
            "_________________________________________________________________\n",
            "up_sampling2d_2 (UpSampling2 (None, 48, 48, 8)         0         \n",
            "_________________________________________________________________\n",
            "conv2d_8 (Conv2D)            (None, 48, 48, 1)         73        \n",
            "_________________________________________________________________\n",
            "flatten_1 (Flatten)          (None, 2304)              0         \n",
            "_________________________________________________________________\n",
            "dense_1 (Dense)              (None, 400)               922000    \n",
            "_________________________________________________________________\n",
            "dense_2 (Dense)              (None, 1)                 401       \n",
            "=================================================================\n",
            "Total params: 925,010\n",
            "Trainable params: 924,946\n",
            "Non-trainable params: 64\n",
            "_________________________________________________________________\n"
          ],
          "name": "stdout"
        }
      ]
    },
    {
      "cell_type": "code",
      "metadata": {
        "id": "4LZJJVuuvMw5",
        "colab_type": "code",
        "colab": {}
      },
      "source": [
        "# compile our model\n",
        "model.compile(optimizer='adam', loss='binary_crossentropy', metrics=['accuracy'])"
      ],
      "execution_count": 0,
      "outputs": []
    },
    {
      "cell_type": "code",
      "metadata": {
        "id": "RPRqtATavUyG",
        "colab_type": "code",
        "colab": {
          "base_uri": "https://localhost:8080/",
          "height": 139
        },
        "outputId": "02c9f530-4a59-4d03-b971-c8a7287c71d3"
      },
      "source": [
        "# fit our model\n",
        "history = model.fit(x_train, y_train, validation_split=0.2, epochs=4, shuffle=True)"
      ],
      "execution_count": 26,
      "outputs": [
        {
          "output_type": "stream",
          "text": [
            "440000/440000 [==============================] - 98s 223us/step - loss: 0.1494 - acc: 0.9405 - val_loss: 0.0980 - val_acc: 0.9665\n",
            "Epoch 2/4\n",
            "440000/440000 [==============================] - 95s 215us/step - loss: 0.0871 - acc: 0.9677 - val_loss: 0.1062 - val_acc: 0.9539\n",
            "Epoch 3/4\n",
            "440000/440000 [==============================] - 95s 216us/step - loss: 0.0698 - acc: 0.9743 - val_loss: 0.0763 - val_acc: 0.9723\n",
            "Epoch 4/4\n",
            "440000/440000 [==============================] - 95s 215us/step - loss: 0.0597 - acc: 0.9783 - val_loss: 0.0588 - val_acc: 0.9773\n"
          ],
          "name": "stdout"
        }
      ]
    },
    {
      "cell_type": "code",
      "metadata": {
        "id": "SzVchZKBvba-",
        "colab_type": "code",
        "colab": {
          "base_uri": "https://localhost:8080/",
          "height": 545
        },
        "outputId": "ffffd3c6-2362-403a-831b-1d6726cad742"
      },
      "source": [
        "# plot accuracy of the model\n",
        "\n",
        "accuracy = history.history['acc']\n",
        "val_accuracy = history.history['val_acc']\n",
        "loss = history.history['loss']\n",
        "val_loss = history.history['val_loss']\n",
        "epochs = range(len(accuracy))\n",
        "plt.plot(epochs, accuracy, 'bo', label='Training accuracy')\n",
        "plt.plot(epochs, val_accuracy, 'b', label='Validation accuracy')\n",
        "plt.title('Training and validation accuracy')\n",
        "plt.legend()\n",
        "plt.figure()\n",
        "plt.plot(epochs, loss, 'bo', label='Training loss')\n",
        "plt.plot(epochs, val_loss, 'b', label='Validation loss')\n",
        "plt.title('Training and validation loss')\n",
        "plt.legend()\n",
        "plt.show()"
      ],
      "execution_count": 28,
      "outputs": [
        {
          "output_type": "display_data",
          "data": {
            "image/png": "[encoded data removed]",
            "text/plain": [
              "<Figure size 432x288 with 1 Axes>"
            ]
          },
          "metadata": {
            "tags": []
          }
        },
        {
          "output_type": "display_data",
          "data": {
            "image/png": "[encoded data removed]",
            "text/plain": [
              "<Figure size 432x288 with 1 Axes>"
            ]
          },
          "metadata": {
            "tags": []
          }
        }
      ]
    },
    {
      "cell_type": "code",
      "metadata": {
        "id": "doPufav2BOF1",
        "colab_type": "code",
        "colab": {
          "base_uri": "https://localhost:8080/",
          "height": 295
        },
        "outputId": "1db5efe8-f976-4c41-cf3e-fcc1f5957651"
      },
      "source": [
        "# evaluate the training\n",
        "\n",
        "plt.plot(history.history['acc'])\n",
        "plt.plot(history.history['val_acc'])\n",
        "plt.title('Model accuracy')\n",
        "plt.ylabel('Accuracy')\n",
        "plt.xlabel('Epoch')\n",
        "plt.legend(['Train', 'Test'], loc='upper left')\n",
        "plt.show()"
      ],
      "execution_count": 30,
      "outputs": [
        {
          "output_type": "display_data",
          "data": {
            "image/png": "[encoded data removed]",
            "text/plain": [
              "<Figure size 432x288 with 1 Axes>"
            ]
          },
          "metadata": {
            "tags": []
          }
        }
      ]
    },
    {
      "cell_type": "code",
      "metadata": {
        "id": "tyVOx_tlBiJv",
        "colab_type": "code",
        "colab": {}
      },
      "source": [
        "# save the model\n",
        "model.save('drive/My Drive/models_save/cnn_autoencoder.h5')"
      ],
      "execution_count": 0,
      "outputs": []
    },
    {
      "cell_type": "code",
      "metadata": {
        "id": "T7BAqDgOBueO",
        "colab_type": "code",
        "colab": {}
      },
      "source": [
        "# load the model\n",
        "model_ = load_model('drive/My Drive/models_save/cnn_autoencoder.h5')"
      ],
      "execution_count": 0,
      "outputs": []
    },
    {
      "cell_type": "code",
      "metadata": {
        "id": "02JsByT0B2wF",
        "colab_type": "code",
        "colab": {
          "base_uri": "https://localhost:8080/",
          "height": 52
        },
        "outputId": "2c1548c6-23e5-4bd5-e0ab-86c5623ccd9f"
      },
      "source": [
        "# evaluate our model\n",
        "loss, acc = model_.evaluate(x_test, y_test, verbose=2)\n",
        "\n",
        "print(\"loss: \" + str(loss))\n",
        "print(\"acc: \" + str(acc))"
      ],
      "execution_count": 33,
      "outputs": [
        {
          "output_type": "stream",
          "text": [
            "loss: 0.03939984729360789\n",
            "acc: 0.98504\n"
          ],
          "name": "stdout"
        }
      ]
    },
    {
      "cell_type": "code",
      "metadata": {
        "id": "MXGhXS-4B50F",
        "colab_type": "code",
        "colab": {}
      },
      "source": [
        ""
      ],
      "execution_count": 0,
      "outputs": []
    }
  ]
}