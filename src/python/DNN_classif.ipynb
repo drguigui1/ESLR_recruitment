{
 "cells": [
  {
   "cell_type": "code",
   "execution_count": 1,
   "metadata": {
    "colab": {
     "base_uri": "https://localhost:8080/",
     "height": 124
    },
    "colab_type": "code",
    "id": "u79RdTznKHo3",
    "outputId": "a1bc1789-8556-4fc1-d373-db985ae526b9"
   },
   "outputs": [
    {
     "name": "stdout",
     "output_type": "stream",
     "text": [
      "Go to this URL in a browser: https://accounts.google.com/o/oauth2/auth?client_id=947318989803-6bn6qk8qdgf4n4g3pfee6491hc0brc4i.apps.googleusercontent.com&redirect_uri=urn%3aietf%3awg%3aoauth%3a2.0%3aoob&response_type=code&scope=email%20https%3a%2f%2fwww.googleapis.com%2fauth%2fdocs.test%20https%3a%2f%2fwww.googleapis.com%2fauth%2fdrive%20https%3a%2f%2fwww.googleapis.com%2fauth%2fdrive.photos.readonly%20https%3a%2f%2fwww.googleapis.com%2fauth%2fpeopleapi.readonly\n",
      "\n",
      "Enter your authorization code:\n",
      "··········\n",
      "Mounted at /content/drive\n"
     ]
    }
   ],
   "source": [
    "from google.colab import drive\n",
    "drive.mount(\"/content/drive\")"
   ]
  },
  {
   "cell_type": "code",
   "execution_count": 0,
   "metadata": {
    "colab": {},
    "colab_type": "code",
    "id": "txv7rmDFTRXx"
   },
   "outputs": [],
   "source": [
    "import numpy as np\n",
    "from sklearn import preprocessing\n",
    "import matplotlib.pyplot as plt"
   ]
  },
  {
   "cell_type": "code",
   "execution_count": 0,
   "metadata": {
    "colab": {},
    "colab_type": "code",
    "id": "fRNk7FEZy5pV"
   },
   "outputs": [],
   "source": [
    "x_train = np.memmap('drive/My Drive/Xtrain.dat', shape=(600000, 2351), dtype=np.float32)\n",
    "y_train = np.memmap('drive/My Drive/Ytrain.dat', dtype=np.float32)\n",
    "# 0 for benign (nb of elm => 300000)\n",
    "# 1 for malicious (nb of elm => 300000)"
   ]
  },
  {
   "cell_type": "code",
   "execution_count": 14,
   "metadata": {
    "colab": {
     "base_uri": "https://localhost:8080/",
     "height": 52
    },
    "colab_type": "code",
    "id": "hiwEd_dwZhd9",
    "outputId": "23388258-b16d-47ad-f0c9-5748a4056807"
   },
   "outputs": [
    {
     "name": "stdout",
     "output_type": "stream",
     "text": [
      "(600000, 2351)\n",
      "(600000,)\n"
     ]
    }
   ],
   "source": [
    "print(x_train.shape)\n",
    "print(y_train.shape)"
   ]
  },
  {
   "cell_type": "code",
   "execution_count": 15,
   "metadata": {
    "colab": {
     "base_uri": "https://localhost:8080/",
     "height": 86
    },
    "colab_type": "code",
    "id": "YJipu_0HJo1q",
    "outputId": "80e28055-7983-4aab-8220-499bfb4d8eca"
   },
   "outputs": [
    {
     "name": "stdout",
     "output_type": "stream",
     "text": [
      "(550000, 2351)\n",
      "(550000,)\n",
      "(50000, 2351)\n",
      "(50000,)\n"
     ]
    }
   ],
   "source": [
    "# split the data into two parts (training set and validation set)\n",
    "x_train, x_test = x_train[:550000], x_train[550000:]\n",
    "y_train, y_test = y_train[:550000], y_train[550000:]\n",
    "\n",
    "print(x_train.shape)\n",
    "print(y_train.shape)\n",
    "print(x_test.shape)\n",
    "print(y_test.shape)"
   ]
  },
  {
   "cell_type": "code",
   "execution_count": 0,
   "metadata": {
    "colab": {},
    "colab_type": "code",
    "id": "0V1fAaf2R1yJ"
   },
   "outputs": [],
   "source": [
    "# normalize the input data (standard normalization)\n",
    "# standard normalization is more efficient than min max normalization in our case\n",
    "\n",
    "std_scaler = preprocessing.StandardScaler()\n",
    "x_train = std_scaler.fit_transform(x_train)\n",
    "x_test = std_scaler.fit_transform(x_test)"
   ]
  },
  {
   "cell_type": "code",
   "execution_count": 17,
   "metadata": {
    "colab": {
     "base_uri": "https://localhost:8080/",
     "height": 52
    },
    "colab_type": "code",
    "id": "tjX1mkq_ug76",
    "outputId": "e93abd2b-032b-4b02-ae93-e26909e31647"
   },
   "outputs": [
    {
     "name": "stdout",
     "output_type": "stream",
     "text": [
      "(550000, 1, 2351)\n",
      "(50000, 1, 2351)\n"
     ]
    }
   ],
   "source": [
    "x_train = x_train.reshape((x_train.shape[0], 1, x_train.shape[1]))\n",
    "x_test = x_test.reshape((x_test.shape[0], 1, x_test.shape[1]))\n",
    "\n",
    "print(x_train.shape)\n",
    "print(x_test.shape)"
   ]
  },
  {
   "cell_type": "code",
   "execution_count": 18,
   "metadata": {
    "colab": {
     "base_uri": "https://localhost:8080/",
     "height": 347
    },
    "colab_type": "code",
    "id": "iAvaxVMtQHwu",
    "outputId": "a7cdfc87-1c0e-41ae-df54-71e3d4bd253c"
   },
   "outputs": [
    {
     "name": "stdout",
     "output_type": "stream",
     "text": [
      "[[[-1.2493665  -0.6904891  -0.49055332 ... -0.00898379 -0.00787839\n",
      "    0.00409734]]\n",
      "\n",
      " [[-0.931376    0.13481581  0.39443153 ... -0.00898379 -0.00787839\n",
      "    0.00409734]]\n",
      "\n",
      " [[-0.31193215  1.5821611  -0.27036646 ... -0.00898379 -0.00787839\n",
      "    0.00409734]]\n",
      "\n",
      " ...\n",
      "\n",
      " [[ 0.35253862 -0.30548707 -0.18661703 ... -0.00898379 -0.00787839\n",
      "    0.00409734]]\n",
      "\n",
      " [[ 0.394764   -0.6825863  -0.46710926 ... -0.00898379 -0.00787839\n",
      "    0.00409734]]\n",
      "\n",
      " [[-0.11660464  1.0340551   3.1445181  ... -0.00898379 -0.00787839\n",
      "    0.00409734]]]\n"
     ]
    }
   ],
   "source": [
    "print(x_train)"
   ]
  },
  {
   "cell_type": "code",
   "execution_count": 0,
   "metadata": {
    "colab": {},
    "colab_type": "code",
    "id": "kbGqMGMuWBhO"
   },
   "outputs": [],
   "source": [
    "# neural net\n",
    "from keras.models import Sequential, load_model\n",
    "from keras.layers import Dense, Flatten, BatchNormalization, Dropout, Activation\n",
    "from keras import optimizers\n",
    "from keras.regularizers import l1\n",
    "\n",
    "from keras.backend import sigmoid\n",
    "from keras.utils.generic_utils import get_custom_objects\n",
    "from keras.layers import Activation"
   ]
  },
  {
   "cell_type": "code",
   "execution_count": 0,
   "metadata": {
    "colab": {},
    "colab_type": "code",
    "id": "q0jPfowusHU2"
   },
   "outputs": [],
   "source": [
    "# definition of the swish activation funtion for tests\n",
    "def swish(x):\n",
    "  return x * sigmoid(x)\n",
    "\n",
    "get_custom_objects().update({'swish': Activation(swish)})"
   ]
  },
  {
   "cell_type": "code",
   "execution_count": 0,
   "metadata": {
    "colab": {},
    "colab_type": "code",
    "id": "RkoXmM1NJJRT"
   },
   "outputs": [],
   "source": [
    "# creation of the model\n",
    "model = Sequential()\n",
    "model.add(Flatten(input_shape=[1, 2351]))\n",
    "\n",
    "# h1\n",
    "model.add(Dense(4600, activation='linear', activity_regularizer=l1(0.001)))\n",
    "model.add(Activation('relu'))\n",
    "model.add(BatchNormalization())\n",
    "model.add(Dropout(0.01))\n",
    "\n",
    "# h2\n",
    "model.add(Dense(2000, activation='linear', activity_regularizer=l1(0.001)))\n",
    "model.add(Activation('relu'))\n",
    "model.add(BatchNormalization())\n",
    "model.add(Dropout(0.01))\n",
    "\n",
    "# h3\n",
    "model.add(Dense(600, activation='linear', activity_regularizer=l1(0.001)))\n",
    "model.add(Activation('relu'))\n",
    "model.add(BatchNormalization())\n",
    "model.add(Dropout(0.01))\n",
    "\n",
    "model.add(Dense(1, activation='sigmoid'))"
   ]
  },
  {
   "cell_type": "code",
   "execution_count": 22,
   "metadata": {
    "colab": {
     "base_uri": "https://localhost:8080/",
     "height": 642
    },
    "colab_type": "code",
    "id": "FKIXlx8ziwM-",
    "outputId": "73e5b9b3-8298-4b37-c3b7-ffa5a565147f"
   },
   "outputs": [
    {
     "name": "stdout",
     "output_type": "stream",
     "text": [
      "Model: \"sequential_1\"\n",
      "_________________________________________________________________\n",
      "Layer (type)                 Output Shape              Param #   \n",
      "=================================================================\n",
      "flatten_1 (Flatten)          (None, 2351)              0         \n",
      "_________________________________________________________________\n",
      "dense_1 (Dense)              (None, 4600)              10819200  \n",
      "_________________________________________________________________\n",
      "activation_2 (Activation)    (None, 4600)              0         \n",
      "_________________________________________________________________\n",
      "batch_normalization_1 (Batch (None, 4600)              18400     \n",
      "_________________________________________________________________\n",
      "dropout_1 (Dropout)          (None, 4600)              0         \n",
      "_________________________________________________________________\n",
      "dense_2 (Dense)              (None, 2000)              9202000   \n",
      "_________________________________________________________________\n",
      "activation_3 (Activation)    (None, 2000)              0         \n",
      "_________________________________________________________________\n",
      "batch_normalization_2 (Batch (None, 2000)              8000      \n",
      "_________________________________________________________________\n",
      "dropout_2 (Dropout)          (None, 2000)              0         \n",
      "_________________________________________________________________\n",
      "dense_3 (Dense)              (None, 600)               1200600   \n",
      "_________________________________________________________________\n",
      "activation_4 (Activation)    (None, 600)               0         \n",
      "_________________________________________________________________\n",
      "batch_normalization_3 (Batch (None, 600)               2400      \n",
      "_________________________________________________________________\n",
      "dropout_3 (Dropout)          (None, 600)               0         \n",
      "_________________________________________________________________\n",
      "dense_4 (Dense)              (None, 1)                 601       \n",
      "=================================================================\n",
      "Total params: 21,251,201\n",
      "Trainable params: 21,236,801\n",
      "Non-trainable params: 14,400\n",
      "_________________________________________________________________\n"
     ]
    }
   ],
   "source": [
    "model.summary()"
   ]
  },
  {
   "cell_type": "code",
   "execution_count": 0,
   "metadata": {
    "colab": {},
    "colab_type": "code",
    "id": "niEBKLvsNQkN"
   },
   "outputs": [],
   "source": [
    "# compile the model\n",
    "adm = optimizers.adam(lr=0.001, beta_1=0.9, beta_2=0.999)\n",
    "model.compile(loss='binary_crossentropy', optimizer=adm, metrics=['accuracy'])"
   ]
  },
  {
   "cell_type": "code",
   "execution_count": 24,
   "metadata": {
    "colab": {
     "base_uri": "https://localhost:8080/",
     "height": 278
    },
    "colab_type": "code",
    "id": "_Oj4ocvSOG9C",
    "outputId": "9f759dce-ca3a-456c-d678-166a14ce61b9"
   },
   "outputs": [
    {
     "name": "stdout",
     "output_type": "stream",
     "text": [
      "440000/440000 [==============================] - 152s 345us/step - loss: 48.4846 - acc: 0.8937 - val_loss: 38.3084 - val_acc: 0.9576\n",
      "Epoch 2/8\n",
      "440000/440000 [==============================] - 119s 271us/step - loss: 37.6513 - acc: 0.9443 - val_loss: 37.8649 - val_acc: 0.9466\n",
      "Epoch 3/8\n",
      "440000/440000 [==============================] - 103s 234us/step - loss: 37.5812 - acc: 0.9455 - val_loss: 38.2703 - val_acc: 0.9543\n",
      "Epoch 4/8\n",
      "440000/440000 [==============================] - 103s 234us/step - loss: 37.6104 - acc: 0.9451 - val_loss: 39.2444 - val_acc: 0.9610\n",
      "Epoch 5/8\n",
      "440000/440000 [==============================] - 138s 313us/step - loss: 37.5977 - acc: 0.9457 - val_loss: 38.1726 - val_acc: 0.9406\n",
      "Epoch 6/8\n",
      "440000/440000 [==============================] - 103s 234us/step - loss: 37.6252 - acc: 0.9457 - val_loss: 38.1824 - val_acc: 0.9342\n",
      "Epoch 7/8\n",
      "440000/440000 [==============================] - 135s 307us/step - loss: 37.6590 - acc: 0.9462 - val_loss: 38.2541 - val_acc: 0.9500\n",
      "Epoch 8/8\n",
      "440000/440000 [==============================] - 102s 233us/step - loss: 37.5560 - acc: 0.9464 - val_loss: 38.2222 - val_acc: 0.9453\n"
     ]
    }
   ],
   "source": [
    "#fit the model\n",
    "history = model.fit(x_train, y_train, validation_split=0.2, epochs=8, batch_size=64, shuffle=True)"
   ]
  },
  {
   "cell_type": "code",
   "execution_count": 25,
   "metadata": {
    "colab": {
     "base_uri": "https://localhost:8080/",
     "height": 295
    },
    "colab_type": "code",
    "id": "5IRqW-ohlj8Y",
    "outputId": "476f345f-edf1-4575-bc56-9a7867b58cb5"
   },
   "outputs": [
    {
     "data": {
      "image/png": "[encoded data removed]",
      "text/plain": [
       "<Figure size 432x288 with 1 Axes>"
      ]
     },
     "metadata": {
      "tags": []
     },
     "output_type": "display_data"
    }
   ],
   "source": [
    "# evaluate our model\n",
    "\n",
    "plt.plot(history.history['acc'])\n",
    "plt.plot(history.history['val_acc'])\n",
    "plt.title('Model accuracy')\n",
    "plt.ylabel('Accuracy')\n",
    "plt.xlabel('Epoch')\n",
    "plt.legend(['Train', 'Test'], loc='upper left')\n",
    "plt.show()"
   ]
  },
  {
   "cell_type": "code",
   "execution_count": 0,
   "metadata": {
    "colab": {},
    "colab_type": "code",
    "id": "LnSgBUsyTC0m"
   },
   "outputs": [],
   "source": [
    "model.save('drive/My Drive/models_save/dnn.h5')"
   ]
  },
  {
   "cell_type": "code",
   "execution_count": 0,
   "metadata": {
    "colab": {},
    "colab_type": "code",
    "id": "8h6-WC_mvMq-"
   },
   "outputs": [],
   "source": [
    "model_ = load_model('drive/My Drive/models_save/dnn.h5')"
   ]
  },
  {
   "cell_type": "code",
   "execution_count": 28,
   "metadata": {
    "colab": {
     "base_uri": "https://localhost:8080/",
     "height": 52
    },
    "colab_type": "code",
    "id": "oIie_VLbwE30",
    "outputId": "b77cfafa-08ec-48bf-8026-6156490152be"
   },
   "outputs": [
    {
     "name": "stdout",
     "output_type": "stream",
     "text": [
      "loss: 22.79894802307129\n",
      "acc: 0.91984\n"
     ]
    }
   ],
   "source": [
    "# evaluate our model\n",
    "loss, acc = model_.evaluate(x_test, y_test, verbose=2)\n",
    "\n",
    "print(\"loss: \" + str(loss))\n",
    "print(\"acc: \" + str(acc))"
   ]
  },
  {
   "cell_type": "code",
   "execution_count": 0,
   "metadata": {
    "colab": {},
    "colab_type": "code",
    "id": "pYhoLQJgwcmt"
   },
   "outputs": [],
   "source": []
  }
 ],
 "metadata": {
  "accelerator": "GPU",
  "colab": {
   "machine_shape": "hm",
   "name": "DNN_classif.ipynb",
   "provenance": []
  },
  "kernelspec": {
   "display_name": "Python 3",
   "language": "python",
   "name": "python3"
  },
  "language_info": {
   "codemirror_mode": {
    "name": "ipython",
    "version": 3
   },
   "file_extension": ".py",
   "mimetype": "text/x-python",
   "name": "python",
   "nbconvert_exporter": "python",
   "pygments_lexer": "ipython3",
   "version": "3.7.4"
  }
 },
 "nbformat": 4,
 "nbformat_minor": 1
}
