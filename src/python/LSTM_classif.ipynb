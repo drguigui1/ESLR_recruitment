{
 "cells": [
  {
   "cell_type": "code",
   "execution_count": 1,
   "metadata": {
    "colab": {
     "base_uri": "https://localhost:8080/",
     "height": 124
    },
    "colab_type": "code",
    "id": "pGWRzGPsv2eL",
    "outputId": "294882c7-fac9-4790-dff9-2f6fae71bbb7"
   },
   "outputs": [
    {
     "name": "stdout",
     "output_type": "stream",
     "text": [
      "Go to this URL in a browser: https://accounts.google.com/o/oauth2/auth?client_id=947318989803-6bn6qk8qdgf4n4g3pfee6491hc0brc4i.apps.googleusercontent.com&redirect_uri=urn%3aietf%3awg%3aoauth%3a2.0%3aoob&response_type=code&scope=email%20https%3a%2f%2fwww.googleapis.com%2fauth%2fdocs.test%20https%3a%2f%2fwww.googleapis.com%2fauth%2fdrive%20https%3a%2f%2fwww.googleapis.com%2fauth%2fdrive.photos.readonly%20https%3a%2f%2fwww.googleapis.com%2fauth%2fpeopleapi.readonly\n",
      "\n",
      "Enter your authorization code:\n",
      "··········\n",
      "Mounted at /content/drive\n"
     ]
    }
   ],
   "source": [
    "from google.colab import drive\n",
    "drive.mount(\"/content/drive\")"
   ]
  },
  {
   "cell_type": "code",
   "execution_count": 0,
   "metadata": {
    "colab": {},
    "colab_type": "code",
    "id": "YF2S3qyrv_u5"
   },
   "outputs": [],
   "source": [
    "import numpy as np\n",
    "from sklearn import preprocessing\n",
    "import matplotlib.pyplot as plt"
   ]
  },
  {
   "cell_type": "code",
   "execution_count": 0,
   "metadata": {
    "colab": {},
    "colab_type": "code",
    "id": "UgXA1_MYwJQz"
   },
   "outputs": [],
   "source": [
    "x_train = np.memmap('drive/My Drive/Xtrain.dat', shape=(600000, 2351), dtype=np.float32)\n",
    "y_train = np.memmap('drive/My Drive/Ytrain.dat', dtype=np.float32)\n",
    "# 0 for benign (nb of elm => 300000)\n",
    "# 1 for malicious (nb of elm => 300000)"
   ]
  },
  {
   "cell_type": "code",
   "execution_count": 4,
   "metadata": {
    "colab": {
     "base_uri": "https://localhost:8080/",
     "height": 52
    },
    "colab_type": "code",
    "id": "DnsKmri1wLd9",
    "outputId": "ff904b7e-c4e0-4b53-def2-13bced609b44"
   },
   "outputs": [
    {
     "name": "stdout",
     "output_type": "stream",
     "text": [
      "(600000, 2351)\n",
      "(600000,)\n"
     ]
    }
   ],
   "source": [
    "print(x_train.shape)\n",
    "print(y_train.shape)"
   ]
  },
  {
   "cell_type": "code",
   "execution_count": 0,
   "metadata": {
    "colab": {},
    "colab_type": "code",
    "id": "UsQbLRrXXBXZ"
   },
   "outputs": [],
   "source": [
    "# normalization\n",
    "std_scaler = preprocessing.StandardScaler()\n",
    "x_train = std_scaler.fit_transform(x_train)1"
   ]
  },
  {
   "cell_type": "code",
   "execution_count": 6,
   "metadata": {
    "colab": {
     "base_uri": "https://localhost:8080/",
     "height": 243
    },
    "colab_type": "code",
    "id": "o7w12DWlWLYO",
    "outputId": "7e1feccd-7fa7-4dcd-e10f-8e20b0ff10d9"
   },
   "outputs": [
    {
     "name": "stdout",
     "output_type": "stream",
     "text": [
      "[[-1.2577435  -0.68802667 -0.48261416 ... -0.009461   -0.00847232\n",
      "   0.00417412]\n",
      " [-0.94415283  0.1411429   0.40310088 ... -0.009461   -0.00847232\n",
      "   0.00417412]\n",
      " [-0.3332799   1.5952656  -0.26224568 ... -0.009461   -0.00847232\n",
      "   0.00417412]\n",
      " ...\n",
      " [ 1.5286949  -0.28995672 -0.06742688 ... -0.009461   -0.00847232\n",
      "   0.00417412]\n",
      " [ 1.4236372  -0.20901267 -0.32735172 ... -0.009461   -0.00847232\n",
      "   0.00417412]\n",
      " [ 2.3949034  -0.68725026 -0.4644797  ... -0.009461   -0.00847232\n",
      "   0.00417412]]\n"
     ]
    }
   ],
   "source": [
    "print(x_train)"
   ]
  },
  {
   "cell_type": "code",
   "execution_count": 7,
   "metadata": {
    "colab": {
     "base_uri": "https://localhost:8080/",
     "height": 86
    },
    "colab_type": "code",
    "id": "k6HCSzCoxMLZ",
    "outputId": "f5b49723-4351-48b5-ea39-95597b0c374a"
   },
   "outputs": [
    {
     "name": "stdout",
     "output_type": "stream",
     "text": [
      "(550000, 2351)\n",
      "(550000,)\n",
      "(50000, 2351)\n",
      "(50000,)\n"
     ]
    }
   ],
   "source": [
    "# split the data into two parts (training set and validation set)\n",
    "x_train, x_test = x_train[:550000], x_train[550000:]\n",
    "y_train, y_test = y_train[:550000], y_train[550000:]\n",
    "\n",
    "print(x_train.shape)\n",
    "print(y_train.shape)\n",
    "print(x_test.shape)\n",
    "print(y_test.shape)"
   ]
  },
  {
   "cell_type": "code",
   "execution_count": 0,
   "metadata": {
    "colab": {},
    "colab_type": "code",
    "id": "DaEt7v-LavfP"
   },
   "outputs": [],
   "source": [
    "x_train = np.reshape(x_train, (550000, 1, 2351))\n",
    "x_test = np.reshape(x_test, (50000, 1, 2351))"
   ]
  },
  {
   "cell_type": "code",
   "execution_count": 0,
   "metadata": {
    "colab": {},
    "colab_type": "code",
    "id": "5f4-J-zE0wV6"
   },
   "outputs": [],
   "source": [
    "# neural net\n",
    "from keras.models import Sequential, load_model\n",
    "from keras.layers import Dense, LSTM, Dropout\n",
    "from keras import optimizers"
   ]
  },
  {
   "cell_type": "code",
   "execution_count": 0,
   "metadata": {
    "colab": {},
    "colab_type": "code",
    "id": "53oEFkCPxVLB"
   },
   "outputs": [],
   "source": [
    "# create the model\n",
    "model = Sequential()\n",
    "model.add(LSTM(32, activation='relu', return_sequences=True, input_shape=(1, 2351)))\n",
    "model.add(LSTM(32, activation='relu'))\n",
    "model.add(Dense(1, activation='sigmoid'))"
   ]
  },
  {
   "cell_type": "code",
   "execution_count": 12,
   "metadata": {
    "colab": {
     "base_uri": "https://localhost:8080/",
     "height": 260
    },
    "colab_type": "code",
    "id": "nUmbe9WWaXeQ",
    "outputId": "7fee60fc-9625-4103-e085-056447fd7170"
   },
   "outputs": [
    {
     "name": "stdout",
     "output_type": "stream",
     "text": [
      "Model: \"sequential_1\"\n",
      "_________________________________________________________________\n",
      "Layer (type)                 Output Shape              Param #   \n",
      "=================================================================\n",
      "lstm_1 (LSTM)                (None, 1, 32)             305152    \n",
      "_________________________________________________________________\n",
      "lstm_2 (LSTM)                (None, 32)                8320      \n",
      "_________________________________________________________________\n",
      "dense_1 (Dense)              (None, 1)                 33        \n",
      "=================================================================\n",
      "Total params: 313,505\n",
      "Trainable params: 313,505\n",
      "Non-trainable params: 0\n",
      "_________________________________________________________________\n"
     ]
    }
   ],
   "source": [
    "model.summary()"
   ]
  },
  {
   "cell_type": "code",
   "execution_count": 0,
   "metadata": {
    "colab": {},
    "colab_type": "code",
    "id": "LDBI3TwI3Uhx"
   },
   "outputs": [],
   "source": [
    "# compile the model\n",
    "adm = optimizers.adam(lr=0.001, beta_1=0.9, beta_2=0.999)\n",
    "model.compile(loss='binary_crossentropy', optimizer=adm, metrics=['accuracy'])"
   ]
  },
  {
   "cell_type": "code",
   "execution_count": 14,
   "metadata": {
    "colab": {
     "base_uri": "https://localhost:8080/",
     "height": 139
    },
    "colab_type": "code",
    "id": "n8wgk0rF4hyz",
    "outputId": "308169fa-be33-4491-d051-4fc8be6761d3"
   },
   "outputs": [
    {
     "name": "stdout",
     "output_type": "stream",
     "text": [
      "467500/467500 [==============================] - 206s 441us/step - loss: 0.0684 - acc: 0.9771 - val_loss: 0.0411 - val_acc: 0.9869\n",
      "Epoch 2/4\n",
      "467500/467500 [==============================] - 173s 370us/step - loss: 0.0414 - acc: 0.9867 - val_loss: 0.0352 - val_acc: 0.9895\n",
      "Epoch 3/4\n",
      "467500/467500 [==============================] - 170s 364us/step - loss: 0.0344 - acc: 0.9890 - val_loss: 0.0389 - val_acc: 0.9886\n",
      "Epoch 4/4\n",
      "467500/467500 [==============================] - 170s 364us/step - loss: 0.0298 - acc: 0.9904 - val_loss: 0.0383 - val_acc: 0.9886\n"
     ]
    }
   ],
   "source": [
    "# fit our model\n",
    "history = model.fit(x_train, y_train, validation_split=0.15, epochs=4, shuffle=True)"
   ]
  },
  {
   "cell_type": "code",
   "execution_count": 15,
   "metadata": {
    "colab": {
     "base_uri": "https://localhost:8080/",
     "height": 295
    },
    "colab_type": "code",
    "id": "EHrfdIaP4udF",
    "outputId": "36d18ef6-d237-4a02-8100-4140c6aac694"
   },
   "outputs": [
    {
     "data": {
      "image/png": "[encoded data removed]",
      "text/plain": [
       "<Figure size 432x288 with 1 Axes>"
      ]
     },
     "metadata": {
      "tags": []
     },
     "output_type": "display_data"
    }
   ],
   "source": [
    "# evaluate our model\n",
    "\n",
    "plt.plot(history.history['acc'])\n",
    "plt.plot(history.history['val_acc'])\n",
    "plt.title('Model accuracy')\n",
    "plt.ylabel('Accuracy')\n",
    "plt.xlabel('Epoch')\n",
    "plt.legend(['Train', 'Test'], loc='upper left')\n",
    "plt.show()"
   ]
  },
  {
   "cell_type": "code",
   "execution_count": 0,
   "metadata": {
    "colab": {},
    "colab_type": "code",
    "id": "1ZpuIXHKqv_t"
   },
   "outputs": [],
   "source": [
    "# save the model\n",
    "model.save('drive/My Drive/models_save/lstm.h5')"
   ]
  },
  {
   "cell_type": "code",
   "execution_count": 0,
   "metadata": {
    "colab": {},
    "colab_type": "code",
    "id": "AOr1V_bIqxzr"
   },
   "outputs": [],
   "source": [
    "model_ = load_model('drive/My Drive/models_save/lstm.h5')"
   ]
  },
  {
   "cell_type": "code",
   "execution_count": 18,
   "metadata": {
    "colab": {
     "base_uri": "https://localhost:8080/",
     "height": 52
    },
    "colab_type": "code",
    "id": "mQR9qbJKq1Wi",
    "outputId": "b324ee69-95c8-4e9d-d650-de282fc83e98"
   },
   "outputs": [
    {
     "name": "stdout",
     "output_type": "stream",
     "text": [
      "loss: 0.034896581664141266\n",
      "acc: 0.98974\n"
     ]
    }
   ],
   "source": [
    "loss, acc = model_.evaluate(x_test, y_test, verbose=2)\n",
    "print(\"loss: \" + str(loss))\n",
    "print(\"acc: \" + str(acc))"
   ]
  },
  {
   "cell_type": "code",
   "execution_count": 0,
   "metadata": {
    "colab": {},
    "colab_type": "code",
    "id": "E4CuilertLGp"
   },
   "outputs": [],
   "source": []
  }
 ],
 "metadata": {
  "accelerator": "GPU",
  "colab": {
   "machine_shape": "hm",
   "name": "LSTM_classif.ipynb",
   "provenance": []
  },
  "kernelspec": {
   "display_name": "Python 3",
   "language": "python",
   "name": "python3"
  },
  "language_info": {
   "codemirror_mode": {
    "name": "ipython",
    "version": 3
   },
   "file_extension": ".py",
   "mimetype": "text/x-python",
   "name": "python",
   "nbconvert_exporter": "python",
   "pygments_lexer": "ipython3",
   "version": "3.7.4"
  }
 },
 "nbformat": 4,
 "nbformat_minor": 1
}
