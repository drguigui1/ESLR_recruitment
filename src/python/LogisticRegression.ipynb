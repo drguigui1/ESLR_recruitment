{
 "cells": [
  {
   "cell_type": "code",
   "execution_count": 0,
   "metadata": {
    "colab": {},
    "colab_type": "code",
    "id": "Dx6jgDoOKjjE"
   },
   "outputs": [],
   "source": [
    "from google.colab import drive\n",
    "drive.mount('/content/drive')"
   ]
  },
  {
   "cell_type": "code",
   "execution_count": 0,
   "metadata": {
    "colab": {},
    "colab_type": "code",
    "id": "4wUv9gUkKxk2"
   },
   "outputs": [],
   "source": [
    "import numpy as np\n",
    "import matplotlib.pyplot as plt\n",
    "from sklearn import preprocessing\n",
    "from sklearn import linear_model\n",
    "from sklearn.utils import shuffle"
   ]
  },
  {
   "cell_type": "code",
   "execution_count": 0,
   "metadata": {
    "colab": {},
    "colab_type": "code",
    "id": "o02kJ7XwLQwa"
   },
   "outputs": [],
   "source": [
    "x_train = np.memmap('drive/My Drive/Xtrain.dat', shape=(600000, 2351), dtype=np.float32)\n",
    "y_train = np.memmap('drive/My Drive/Ytrain.dat', dtype=np.float32)\n",
    "# 0 for benign (nb of elm => 300000)\n",
    "# 1 for malicious (nb of elm => 300000)"
   ]
  },
  {
   "cell_type": "code",
   "execution_count": 0,
   "metadata": {
    "colab": {},
    "colab_type": "code",
    "id": "hQFUCUiVMxlK"
   },
   "outputs": [],
   "source": [
    "# normalization\n",
    "std_scaler = preprocessing.StandardScaler()\n",
    "x_train = std_scaler.fit_transform(x_train)"
   ]
  },
  {
   "cell_type": "code",
   "execution_count": 0,
   "metadata": {
    "colab": {},
    "colab_type": "code",
    "id": "0jZ90oNXYEY0"
   },
   "outputs": [],
   "source": [
    "# shuffle the dataset\n",
    "x_train, y_train = shuffle(x_train, y_train)"
   ]
  },
  {
   "cell_type": "code",
   "execution_count": 6,
   "metadata": {
    "colab": {
     "base_uri": "https://localhost:8080/",
     "height": 86
    },
    "colab_type": "code",
    "id": "EnSzBCyPL-5z",
    "outputId": "f2631449-bc54-4319-b4a8-2ca7c1965386"
   },
   "outputs": [
    {
     "name": "stdout",
     "output_type": "stream",
     "text": [
      "(550000, 2351)\n",
      "(550000,)\n",
      "(50000, 2351)\n",
      "(50000,)\n"
     ]
    }
   ],
   "source": [
    "# split the data into two parts (training set and test set)\n",
    "x_train, x_test = x_train[:550000], x_train[550000:]\n",
    "y_train, y_test = y_train[:550000], y_train[550000:]\n",
    "\n",
    "print(x_train.shape)\n",
    "print(y_train.shape)\n",
    "print(x_test.shape)\n",
    "print(y_test.shape)"
   ]
  },
  {
   "cell_type": "code",
   "execution_count": 7,
   "metadata": {
    "colab": {
     "base_uri": "https://localhost:8080/",
     "height": 52
    },
    "colab_type": "code",
    "id": "6ZuFovth3BV-",
    "outputId": "88b77dbd-5cd1-492d-ac70-b21ad03a8d17"
   },
   "outputs": [
    {
     "name": "stdout",
     "output_type": "stream",
     "text": [
      "(50000, 2351)\n",
      "(50000,)\n"
     ]
    }
   ],
   "source": [
    "# create validation set\n",
    "x_validation, y_validation = x_train[500000:], y_train[500000:]\n",
    "print(x_validation.shape)\n",
    "print(y_validation.shape)"
   ]
  },
  {
   "cell_type": "code",
   "execution_count": 0,
   "metadata": {
    "colab": {},
    "colab_type": "code",
    "id": "FE1BB3xCMp7M"
   },
   "outputs": [],
   "source": [
    "# nbr of iteration\n",
    "it = 10\n",
    "# size of one batch\n",
    "batch_size = 10000\n",
    "# nbr of batch\n",
    "nb_batch = 500000 // batch_size"
   ]
  },
  {
   "cell_type": "code",
   "execution_count": 0,
   "metadata": {
    "colab": {},
    "colab_type": "code",
    "id": "e9IXQMs3umnp"
   },
   "outputs": [],
   "source": [
    "# graphical representation of the data\n",
    "def get_col(x_train, y_train, col_nbr, label, nbr_value):\n",
    "  '''\n",
    "  get one column of the dataset and represent it as a vector\n",
    "  col_nbr: nbr of the column to process\n",
    "  label: nbr of the label to get\n",
    "  '''\n",
    "  new = np.zeros((nbr_value, 1))\n",
    "  cpt = 0\n",
    "  i = 0\n",
    "  while (nbr_value > 0):\n",
    "    if y_train[i] == label:\n",
    "      new[cpt] = x_train[i][col_nbr]\n",
    "      cpt += 1\n",
    "      nbr_value -= 1\n",
    "    i += 1\n",
    "  return new"
   ]
  },
  {
   "cell_type": "code",
   "execution_count": 0,
   "metadata": {
    "colab": {},
    "colab_type": "code",
    "id": "5DYdKivHwv5_"
   },
   "outputs": [],
   "source": [
    "# graphical representation of each point according to specific feature\n",
    "def display(feature1, feature2):\n",
    "  '''\n",
    "  feature1: position of the feature 1 [0, 2350]\n",
    "  feature2: pos of the feature 2 (in x_train)\n",
    "  '''\n",
    "  mal_1 = get_col(x_train, y_train, feature1, 1, 100)\n",
    "  mal_2 = get_col(x_train, y_train, feature2, 1, 100)\n",
    "\n",
    "  ben_1 = get_col(x_train, y_train, feature1, 0, 100)\n",
    "  ben_2 = get_col(x_train, y_train, feature2, 0, 100)\n",
    "\n",
    "  # display\n",
    "  plt.scatter(mal_1, mal_2, marker='+', color='green')\n",
    "  plt.scatter(ben_1, ben_2, marker='_', color='red')\n",
    "  x_title = \"feature nbr \" + str(feature1)\n",
    "  y_title = \"feature nbr \" + str(feature2)\n",
    "  plt.xlabel(x_title)\n",
    "  plt.ylabel(y_title)\n",
    "  plt.show()"
   ]
  },
  {
   "cell_type": "code",
   "execution_count": 11,
   "metadata": {
    "colab": {
     "base_uri": "https://localhost:8080/",
     "height": 803
    },
    "colab_type": "code",
    "id": "Bfl08QZbyRYy",
    "outputId": "baea7a30-9132-48d7-e1d9-acce2f1a7ae5"
   },
   "outputs": [
    {
     "data": {
      "image/png": "[encoded data removed]",
      "text/plain": [
       "<Figure size 432x288 with 1 Axes>"
      ]
     },
     "metadata": {
      "tags": []
     },
     "output_type": "display_data"
    },
    {
     "data": {
      "image/png": "[encoded data removed]",
      "text/plain": [
       "<Figure size 432x288 with 1 Axes>"
      ]
     },
     "metadata": {
      "tags": []
     },
     "output_type": "display_data"
    },
    {
     "data": {
      "image/png": "[encoded data removed]",
      "text/plain": [
       "<Figure size 432x288 with 1 Axes>"
      ]
     },
     "metadata": {
      "tags": []
     },
     "output_type": "display_data"
    }
   ],
   "source": [
    "display(15, 12)\n",
    "display(11, 18)\n",
    "display(3, 5)"
   ]
  },
  {
   "cell_type": "code",
   "execution_count": 0,
   "metadata": {
    "colab": {},
    "colab_type": "code",
    "id": "qZhpb7Ew4daF"
   },
   "outputs": [],
   "source": [
    "def predict_model(datas, labels, model):\n",
    "  '''\n",
    "  predict according to our model\n",
    "  '''\n",
    "  m = len(datas) # total nbr of data\n",
    "  good_pred = 0 # nbr of good prediction\n",
    "  for i in range(m):\n",
    "    res = model.predict(np.array([datas[i]]))[0] # get the result\n",
    "    label = labels[i]\n",
    "    if res == label:\n",
    "      good_pred += 1\n",
    "  return good_pred / m"
   ]
  },
  {
   "cell_type": "code",
   "execution_count": 0,
   "metadata": {
    "colab": {},
    "colab_type": "code",
    "id": "liwdbPbYhoWT"
   },
   "outputs": [],
   "source": [
    "# create the model\n",
    "# loss = 'log' <=> to logistic regression\n",
    "model = linear_model.SGDClassifier(shuffle=True, loss='log')"
   ]
  },
  {
   "cell_type": "code",
   "execution_count": 16,
   "metadata": {
    "colab": {
     "base_uri": "https://localhost:8080/",
     "height": 885
    },
    "colab_type": "code",
    "id": "H_UMQndsiNrw",
    "outputId": "7a32e947-2bba-4cb9-9de1-83fd2b1322f1"
   },
   "outputs": [
    {
     "name": "stdout",
     "output_type": "stream",
     "text": [
      "Epoch nbr 1\n",
      "==================================================\n",
      "validation accuracy: 0.95488\n",
      "--------------------\n",
      "--------------------\n",
      "Epoch nbr 2\n",
      "==================================================\n",
      "validation accuracy: 0.95824\n",
      "--------------------\n",
      "--------------------\n",
      "Epoch nbr 3\n",
      "==================================================\n",
      "validation accuracy: 0.9598\n",
      "--------------------\n",
      "--------------------\n",
      "Epoch nbr 4\n",
      "==================================================\n",
      "validation accuracy: 0.95442\n",
      "--------------------\n",
      "--------------------\n",
      "Epoch nbr 5\n",
      "==================================================\n",
      "validation accuracy: 0.95934\n",
      "--------------------\n",
      "--------------------\n",
      "Epoch nbr 6\n",
      "==================================================\n",
      "validation accuracy: 0.96072\n",
      "--------------------\n",
      "--------------------\n",
      "Epoch nbr 7\n",
      "==================================================\n",
      "validation accuracy: 0.95838\n",
      "--------------------\n",
      "--------------------\n",
      "Epoch nbr 8\n",
      "==================================================\n",
      "validation accuracy: 0.96376\n",
      "--------------------\n",
      "--------------------\n",
      "Epoch nbr 9\n",
      "==================================================\n",
      "validation accuracy: 0.96288\n",
      "--------------------\n",
      "--------------------\n",
      "Epoch nbr 10\n",
      "==================================================\n",
      "validation accuracy: 0.96454\n",
      "--------------------\n",
      "--------------------\n"
     ]
    }
   ],
   "source": [
    "# fit the model\n",
    "for i in range(it):\n",
    "  print(\"Epoch nbr {}\".format(i + 1))\n",
    "  inf = 0\n",
    "  supp = 10000\n",
    "  for j in range(nb_batch):\n",
    "    print(\"=\", end='')\n",
    "    x_train_sub, y_train_sub = x_train[inf:supp], y_train[inf:supp]\n",
    "    model.partial_fit(x_train_sub, y_train_sub, classes=np.unique(y_train))\n",
    "    inf += batch_size\n",
    "    supp += batch_size\n",
    "  print()\n",
    "  # validation set\n",
    "  acc_val = predict_model(x_validation, y_validation, model)\n",
    "  print(\"validation accuracy: {}\".format(acc_val))\n",
    "  print('--------------------')\n",
    "  print('--------------------')"
   ]
  },
  {
   "cell_type": "code",
   "execution_count": 0,
   "metadata": {
    "colab": {},
    "colab_type": "code",
    "id": "HH1SChIJsJ0g"
   },
   "outputs": [],
   "source": [
    "acc = predict_model(x_test, y_test, model)"
   ]
  },
  {
   "cell_type": "code",
   "execution_count": 18,
   "metadata": {
    "colab": {
     "base_uri": "https://localhost:8080/",
     "height": 34
    },
    "colab_type": "code",
    "id": "AIaSF67stXCD",
    "outputId": "5bb2c620-4fca-4235-f184-2db0deb1ea1c"
   },
   "outputs": [
    {
     "name": "stdout",
     "output_type": "stream",
     "text": [
      "0.96342\n"
     ]
    }
   ],
   "source": [
    "print(acc)"
   ]
  },
  {
   "cell_type": "code",
   "execution_count": 0,
   "metadata": {
    "colab": {},
    "colab_type": "code",
    "id": "_V9wd5Jj7BNW"
   },
   "outputs": [],
   "source": []
  }
 ],
 "metadata": {
  "colab": {
   "machine_shape": "hm",
   "name": "LogisticRegression.ipynb",
   "provenance": []
  },
  "kernelspec": {
   "display_name": "Python 3",
   "language": "python",
   "name": "python3"
  },
  "language_info": {
   "codemirror_mode": {
    "name": "ipython",
    "version": 3
   },
   "file_extension": ".py",
   "mimetype": "text/x-python",
   "name": "python",
   "nbconvert_exporter": "python",
   "pygments_lexer": "ipython3",
   "version": "3.7.4"
  }
 },
 "nbformat": 4,
 "nbformat_minor": 1
}
