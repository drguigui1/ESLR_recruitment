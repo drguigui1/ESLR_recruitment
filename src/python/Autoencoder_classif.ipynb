{
 "cells": [
  {
   "cell_type": "code",
   "execution_count": 1,
   "metadata": {
    "colab": {
     "base_uri": "https://localhost:8080/",
     "height": 124
    },
    "colab_type": "code",
    "id": "FtKh6NsLrHN6",
    "outputId": "4378e26e-f79e-4abf-ffb1-1bc8c2cf5ec4"
   },
   "outputs": [
    {
     "name": "stdout",
     "output_type": "stream",
     "text": [
      "Go to this URL in a browser: https://accounts.google.com/o/oauth2/auth?client_id=947318989803-6bn6qk8qdgf4n4g3pfee6491hc0brc4i.apps.googleusercontent.com&redirect_uri=urn%3aietf%3awg%3aoauth%3a2.0%3aoob&response_type=code&scope=email%20https%3a%2f%2fwww.googleapis.com%2fauth%2fdocs.test%20https%3a%2f%2fwww.googleapis.com%2fauth%2fdrive%20https%3a%2f%2fwww.googleapis.com%2fauth%2fdrive.photos.readonly%20https%3a%2f%2fwww.googleapis.com%2fauth%2fpeopleapi.readonly\n",
      "\n",
      "Enter your authorization code:\n",
      "··········\n",
      "Mounted at /content/drive\n"
     ]
    }
   ],
   "source": [
    "from google.colab import drive\n",
    "drive.mount('/content/drive')"
   ]
  },
  {
   "cell_type": "code",
   "execution_count": 0,
   "metadata": {
    "colab": {},
    "colab_type": "code",
    "id": "x0BfKrhcrR0a"
   },
   "outputs": [],
   "source": [
    "import numpy as np\n",
    "from sklearn import preprocessing\n",
    "import matplotlib.pyplot as plt"
   ]
  },
  {
   "cell_type": "code",
   "execution_count": 0,
   "metadata": {
    "colab": {},
    "colab_type": "code",
    "id": "3HoCPFoPrpXe"
   },
   "outputs": [],
   "source": [
    "x_train = np.memmap('drive/My Drive/Xtrain.dat', shape=(600000, 2351), dtype=np.float32)\n",
    "y_train = np.memmap('drive/My Drive/Ytrain.dat', dtype=np.float32)\n",
    "# 0 for benign (nb of elm => 300000)\n",
    "# 1 for malicious (nb of elm => 300000)"
   ]
  },
  {
   "cell_type": "code",
   "execution_count": 0,
   "metadata": {
    "colab": {},
    "colab_type": "code",
    "id": "Oz1EjjDLrrTP"
   },
   "outputs": [],
   "source": [
    "# normalize the data\n",
    "std_scaler = preprocessing.StandardScaler()\n",
    "x_train = std_scaler.fit_transform(x_train)"
   ]
  },
  {
   "cell_type": "code",
   "execution_count": 5,
   "metadata": {
    "colab": {
     "base_uri": "https://localhost:8080/",
     "height": 86
    },
    "colab_type": "code",
    "id": "nY-p359Fr4Be",
    "outputId": "a26f7986-8be1-4408-b765-3470ef887977"
   },
   "outputs": [
    {
     "name": "stdout",
     "output_type": "stream",
     "text": [
      "(550000, 2351)\n",
      "(550000,)\n",
      "(50000, 2351)\n",
      "(50000,)\n"
     ]
    }
   ],
   "source": [
    "# split the data into two parts (training set and test set)\n",
    "x_train, x_test = x_train[:550000], x_train[550000:]\n",
    "y_train, y_test = y_train[:550000], y_train[550000:]\n",
    "\n",
    "print(x_train.shape)\n",
    "print(y_train.shape)\n",
    "print(x_test.shape)\n",
    "print(y_test.shape)"
   ]
  },
  {
   "cell_type": "code",
   "execution_count": 6,
   "metadata": {
    "colab": {
     "base_uri": "https://localhost:8080/",
     "height": 34
    },
    "colab_type": "code",
    "id": "8K7VFr-Lu18S",
    "outputId": "326d2618-4234-4419-ee41-9bc34f2c1f11"
   },
   "outputs": [
    {
     "name": "stdout",
     "output_type": "stream",
     "text": [
      "(2351,)\n"
     ]
    }
   ],
   "source": [
    "print(x_train[0].shape)"
   ]
  },
  {
   "cell_type": "code",
   "execution_count": 0,
   "metadata": {
    "colab": {},
    "colab_type": "code",
    "id": "BSTOdYr-trvn"
   },
   "outputs": [],
   "source": [
    "from keras.models import Model, load_model\n",
    "from keras.layers import Input, Dense\n",
    "from keras import optimizers, regularizers"
   ]
  },
  {
   "cell_type": "code",
   "execution_count": 0,
   "metadata": {
    "colab": {},
    "colab_type": "code",
    "id": "xRWCMsrmuucb"
   },
   "outputs": [],
   "source": [
    "# create our autoencoder\n",
    "\n",
    "# input vector\n",
    "input_vect = Input(shape=(2351,))\n",
    "\n",
    "# encode our data\n",
    "encoder = Dense(1024, activation='relu', activity_regularizer=regularizers.l1(0.001)) (input_vect)\n",
    "encoder = Dense(512, activation='relu') (encoder)\n",
    "\n",
    "# decode our data\n",
    "decoder = Dense(1024, activation='relu') (encoder)\n",
    "\n",
    "# output\n",
    "decoder = Dense(2351, activation='sigmoid') (decoder)\n",
    "\n",
    "# The model\n",
    "autoencoder = Model(input_vect, decoder)"
   ]
  },
  {
   "cell_type": "code",
   "execution_count": 23,
   "metadata": {
    "colab": {
     "base_uri": "https://localhost:8080/",
     "height": 330
    },
    "colab_type": "code",
    "id": "8SKYW5M_3EOu",
    "outputId": "7f8d7c7c-dfa9-4d07-f63a-5c8b68e6f205"
   },
   "outputs": [
    {
     "name": "stdout",
     "output_type": "stream",
     "text": [
      "Model: \"model_5\"\n",
      "_________________________________________________________________\n",
      "Layer (type)                 Output Shape              Param #   \n",
      "=================================================================\n",
      "input_3 (InputLayer)         (None, 2351)              0         \n",
      "_________________________________________________________________\n",
      "dense_11 (Dense)             (None, 1024)              2408448   \n",
      "_________________________________________________________________\n",
      "dense_12 (Dense)             (None, 512)               524800    \n",
      "_________________________________________________________________\n",
      "dense_13 (Dense)             (None, 1024)              525312    \n",
      "_________________________________________________________________\n",
      "dense_14 (Dense)             (None, 2351)              2409775   \n",
      "=================================================================\n",
      "Total params: 5,868,335\n",
      "Trainable params: 5,868,335\n",
      "Non-trainable params: 0\n",
      "_________________________________________________________________\n"
     ]
    }
   ],
   "source": [
    "autoencoder.summary()"
   ]
  },
  {
   "cell_type": "code",
   "execution_count": 0,
   "metadata": {
    "colab": {},
    "colab_type": "code",
    "id": "Amsc5IHvwbkJ"
   },
   "outputs": [],
   "source": [
    "# compile our model\n",
    "# use MSE => working better than crossentropy\n",
    "autoencoder.compile(loss='mean_squared_error', optimizer='adam')"
   ]
  },
  {
   "cell_type": "code",
   "execution_count": 25,
   "metadata": {
    "colab": {
     "base_uri": "https://localhost:8080/",
     "height": 382
    },
    "colab_type": "code",
    "id": "SQfZBedOwsQw",
    "outputId": "85456bb3-2a1e-4baa-f6c5-d503705c48c4"
   },
   "outputs": [
    {
     "name": "stdout",
     "output_type": "stream",
     "text": [
      "Epoch 1/10\n",
      "550000/550000 [==============================] - 20s 37us/step - loss: 7.4761\n",
      "Epoch 2/10\n",
      "550000/550000 [==============================] - 20s 36us/step - loss: 2.2530\n",
      "Epoch 3/10\n",
      "550000/550000 [==============================] - 19s 35us/step - loss: 1.7204\n",
      "Epoch 4/10\n",
      "550000/550000 [==============================] - 19s 35us/step - loss: 1.5023\n",
      "Epoch 5/10\n",
      "550000/550000 [==============================] - 19s 35us/step - loss: 1.3667\n",
      "Epoch 6/10\n",
      "550000/550000 [==============================] - 20s 35us/step - loss: 1.2959\n",
      "Epoch 7/10\n",
      "550000/550000 [==============================] - 20s 36us/step - loss: 1.2216\n",
      "Epoch 8/10\n",
      "550000/550000 [==============================] - 20s 36us/step - loss: 1.1903\n",
      "Epoch 9/10\n",
      "550000/550000 [==============================] - 19s 35us/step - loss: 1.1792\n",
      "Epoch 10/10\n",
      "550000/550000 [==============================] - 19s 35us/step - loss: 1.1662\n"
     ]
    },
    {
     "data": {
      "text/plain": [
       "<keras.callbacks.History at 0x7efbbfbb5dd8>"
      ]
     },
     "execution_count": 25,
     "metadata": {
      "tags": []
     },
     "output_type": "execute_result"
    }
   ],
   "source": [
    "# fit our model\n",
    "autoencoder.fit(x_train, x_train, epochs=10, batch_size=256, shuffle=True)"
   ]
  },
  {
   "cell_type": "code",
   "execution_count": 0,
   "metadata": {
    "colab": {},
    "colab_type": "code",
    "id": "CzyeiLzxw_Qf"
   },
   "outputs": [],
   "source": [
    "# add one layer for classification\n",
    "output = Dense(1, activation='sigmoid') (decoder)\n",
    "model = Model(input_vect, output)"
   ]
  },
  {
   "cell_type": "code",
   "execution_count": 0,
   "metadata": {
    "colab": {},
    "colab_type": "code",
    "id": "GBQiKaxE43il"
   },
   "outputs": [],
   "source": [
    "# compile the model\n",
    "model.compile(optimizer='adam', loss='binary_crossentropy', metrics=['accuracy'])"
   ]
  },
  {
   "cell_type": "code",
   "execution_count": 28,
   "metadata": {
    "colab": {
     "base_uri": "https://localhost:8080/",
     "height": 104
    },
    "colab_type": "code",
    "id": "XRXjtjKS47GC",
    "outputId": "f6ba3ad3-5fbc-42f2-abd1-4b0cd0c4cc4d"
   },
   "outputs": [
    {
     "name": "stdout",
     "output_type": "stream",
     "text": [
      "Train on 412500 samples, validate on 137500 samples\n",
      "Epoch 1/2\n",
      "412500/412500 [==============================] - 89s 216us/step - loss: 1.7437 - acc: 0.9276 - val_loss: 2.2659 - val_acc: 0.9193\n",
      "Epoch 2/2\n",
      "412500/412500 [==============================] - 88s 213us/step - loss: 1.1936 - acc: 0.9474 - val_loss: 2.2183 - val_acc: 0.9449\n"
     ]
    }
   ],
   "source": [
    "# fit the model\n",
    "history = model.fit(x_train, y_train, validation_split=0.25, epochs=2, batch_size=32, shuffle=True)"
   ]
  },
  {
   "cell_type": "code",
   "execution_count": 29,
   "metadata": {
    "colab": {
     "base_uri": "https://localhost:8080/",
     "height": 295
    },
    "colab_type": "code",
    "id": "YIeK_yVb5AoU",
    "outputId": "930f6f3a-601c-4a97-dc21-f6f23d302bea"
   },
   "outputs": [
    {
     "data": {
      "image/png": "[encoded data removed]",
      "text/plain": [
       "<Figure size 432x288 with 1 Axes>"
      ]
     },
     "metadata": {
      "tags": []
     },
     "output_type": "display_data"
    }
   ],
   "source": [
    "# evaluate our model\n",
    "\n",
    "plt.plot(history.history['acc'])\n",
    "plt.plot(history.history['val_acc'])\n",
    "plt.title('Model accuracy')\n",
    "plt.ylabel('Accuracy')\n",
    "plt.xlabel('Epoch')\n",
    "plt.legend(['Train', 'Test'], loc='upper left')\n",
    "plt.show()"
   ]
  },
  {
   "cell_type": "code",
   "execution_count": 30,
   "metadata": {
    "colab": {
     "base_uri": "https://localhost:8080/",
     "height": 52
    },
    "colab_type": "code",
    "id": "4LzktLIL7hXP",
    "outputId": "904ee267-389e-4356-92ca-7a7d911f9389"
   },
   "outputs": [
    {
     "name": "stdout",
     "output_type": "stream",
     "text": [
      "loss: 1.175764148607254\n",
      "acc: 0.95874\n"
     ]
    }
   ],
   "source": [
    "loss, acc = model.evaluate(x_test, y_test, verbose=2)\n",
    "print(\"loss: \" + str(loss))\n",
    "print(\"acc: \" + str(acc))"
   ]
  },
  {
   "cell_type": "code",
   "execution_count": 0,
   "metadata": {
    "colab": {},
    "colab_type": "code",
    "id": "5VS-Kk8_7vbh"
   },
   "outputs": [],
   "source": []
  }
 ],
 "metadata": {
  "accelerator": "GPU",
  "colab": {
   "machine_shape": "hm",
   "name": "Autoencoder_classif.ipynb",
   "provenance": []
  },
  "kernelspec": {
   "display_name": "Python 3",
   "language": "python",
   "name": "python3"
  },
  "language_info": {
   "codemirror_mode": {
    "name": "ipython",
    "version": 3
   },
   "file_extension": ".py",
   "mimetype": "text/x-python",
   "name": "python",
   "nbconvert_exporter": "python",
   "pygments_lexer": "ipython3",
   "version": "3.7.4"
  }
 },
 "nbformat": 4,
 "nbformat_minor": 1
}
