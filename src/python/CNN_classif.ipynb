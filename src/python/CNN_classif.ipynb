{
 "cells": [
  {
   "cell_type": "code",
   "execution_count": 1,
   "metadata": {
    "colab": {
     "base_uri": "https://localhost:8080/",
     "height": 124
    },
    "colab_type": "code",
    "executionInfo": {
     "elapsed": 22268,
     "status": "ok",
     "timestamp": 1577368211841,
     "user": {
      "displayName": "Pierre Guillaume",
      "photoUrl": "",
      "userId": "10655844094589609234"
     },
     "user_tz": -60
    },
    "id": "Coj1exVscRuc",
    "outputId": "3ffd2f80-7470-48e5-af39-d36e20f1d41e"
   },
   "outputs": [
    {
     "name": "stdout",
     "output_type": "stream",
     "text": [
      "Go to this URL in a browser: https://accounts.google.com/o/oauth2/auth?client_id=947318989803-6bn6qk8qdgf4n4g3pfee6491hc0brc4i.apps.googleusercontent.com&redirect_uri=urn%3aietf%3awg%3aoauth%3a2.0%3aoob&response_type=code&scope=email%20https%3a%2f%2fwww.googleapis.com%2fauth%2fdocs.test%20https%3a%2f%2fwww.googleapis.com%2fauth%2fdrive%20https%3a%2f%2fwww.googleapis.com%2fauth%2fdrive.photos.readonly%20https%3a%2f%2fwww.googleapis.com%2fauth%2fpeopleapi.readonly\n",
      "\n",
      "Enter your authorization code:\n",
      "··········\n",
      "Mounted at /content/drive\n"
     ]
    }
   ],
   "source": [
    "from google.colab import drive\n",
    "drive.mount('/content/drive')"
   ]
  },
  {
   "cell_type": "code",
   "execution_count": 0,
   "metadata": {
    "colab": {},
    "colab_type": "code",
    "id": "X45altescVxW"
   },
   "outputs": [],
   "source": [
    "import numpy as np\n",
    "from sklearn import preprocessing\n",
    "import matplotlib.pyplot as plt"
   ]
  },
  {
   "cell_type": "code",
   "execution_count": 0,
   "metadata": {
    "colab": {},
    "colab_type": "code",
    "id": "o7Dpf6Vdcch6"
   },
   "outputs": [],
   "source": [
    "x_train = np.memmap('drive/My Drive/Xtrain.dat', shape=(600000, 2351), dtype=np.float32)\n",
    "y_train = np.memmap('drive/My Drive/Ytrain.dat', dtype=np.float32)\n",
    "# 0 for benign (nb of elm => 300000)\n",
    "# 1 for malicious (nb of elm => 300000)"
   ]
  },
  {
   "cell_type": "code",
   "execution_count": 4,
   "metadata": {
    "colab": {
     "base_uri": "https://localhost:8080/",
     "height": 260
    },
    "colab_type": "code",
    "executionInfo": {
     "elapsed": 2281,
     "status": "ok",
     "timestamp": 1577368228523,
     "user": {
      "displayName": "Pierre Guillaume",
      "photoUrl": "",
      "userId": "10655844094589609234"
     },
     "user_tz": -60
    },
    "id": "6kZ4iaPKcfB5",
    "outputId": "41a9f191-eb35-4b5a-c8ca-d92a1155aaf4"
   },
   "outputs": [
    {
     "name": "stdout",
     "output_type": "stream",
     "text": [
      "[[  3.7433937   1.3417011   1.5087795 ...   0.          0.\n",
      "    0.       ]\n",
      " [ 18.43898     4.467576    4.2452645 ...   0.          0.\n",
      "    0.       ]\n",
      " [ 47.065903    9.949453    2.189625  ...   0.          0.\n",
      "    0.       ]\n",
      " ...\n",
      " [134.32236     2.8423796   2.7915328 ...   0.          0.\n",
      "    0.       ]\n",
      " [129.39911     3.1475294   1.9884748 ...   0.          0.\n",
      "    0.       ]\n",
      " [174.9149      1.3446283   1.5648073 ...   0.          0.\n",
      "    0.       ]]\n",
      "(600000, 2351)\n"
     ]
    }
   ],
   "source": [
    "print(x_train)\n",
    "print(x_train.shape)"
   ]
  },
  {
   "cell_type": "code",
   "execution_count": 5,
   "metadata": {
    "colab": {
     "base_uri": "https://localhost:8080/",
     "height": 52
    },
    "colab_type": "code",
    "executionInfo": {
     "elapsed": 135714,
     "status": "ok",
     "timestamp": 1577368364178,
     "user": {
      "displayName": "Pierre Guillaume",
      "photoUrl": "",
      "userId": "10655844094589609234"
     },
     "user_tz": -60
    },
    "id": "3ktt507mchY7",
    "outputId": "b4018e19-3468-452f-b2a3-e27b25aaa8dd"
   },
   "outputs": [
    {
     "name": "stdout",
     "output_type": "stream",
     "text": [
      "(600000, 2351)\n",
      "(600000, 2304)\n"
     ]
    }
   ],
   "source": [
    "# dimension reduction\n",
    "print(x_train.shape)\n",
    "x_train = np.delete(x_train, np.s_[-47:], axis=1)\n",
    "print(x_train.shape)"
   ]
  },
  {
   "cell_type": "code",
   "execution_count": 0,
   "metadata": {
    "colab": {},
    "colab_type": "code",
    "id": "65_DLZZKctXK"
   },
   "outputs": [],
   "source": [
    "# normalize data for printing (pixels range: [0, 255])\n",
    "min_max_scaler = preprocessing.MinMaxScaler((0, 255), copy=False)\n",
    "x_train = min_max_scaler.fit_transform(x_train)"
   ]
  },
  {
   "cell_type": "code",
   "execution_count": 7,
   "metadata": {
    "colab": {
     "base_uri": "https://localhost:8080/",
     "height": 243
    },
    "colab_type": "code",
    "executionInfo": {
     "elapsed": 1197,
     "status": "ok",
     "timestamp": 1577368387185,
     "user": {
      "displayName": "Pierre Guillaume",
      "photoUrl": "",
      "userId": "10655844094589609234"
     },
     "user_tz": -60
    },
    "id": "0uu6O99GdDq4",
    "outputId": "1223251b-7d01-4f9f-f4a4-7ef6937bd17f"
   },
   "outputs": [
    {
     "name": "stdout",
     "output_type": "stream",
     "text": [
      "[[  3.7148898   1.3417011   1.5087795 ...  27.967741  151.48515\n",
      "  194.90779  ]\n",
      " [ 18.410475    4.467576    4.2452645 ...  27.967741  151.48515\n",
      "  194.90779  ]\n",
      " [ 47.037395    9.949453    2.189625  ...  27.967741  151.48515\n",
      "  194.90779  ]\n",
      " ...\n",
      " [134.29384     2.8423796   2.7915328 ...  27.967741  151.48515\n",
      "  194.90779  ]\n",
      " [129.37059     3.1475294   1.9884748 ...  27.967741  151.48515\n",
      "  194.90779  ]\n",
      " [174.88638     1.3446283   1.5648073 ...  27.967741  151.48515\n",
      "  194.90779  ]]\n"
     ]
    }
   ],
   "source": [
    "print(x_train)"
   ]
  },
  {
   "cell_type": "code",
   "execution_count": 0,
   "metadata": {
    "colab": {},
    "colab_type": "code",
    "id": "6d8Y69rLdGlH"
   },
   "outputs": [],
   "source": [
    "# reshape the data to consider vectors as images\n",
    "x_train = np.reshape(x_train, (600000, 48, 48))"
   ]
  },
  {
   "cell_type": "code",
   "execution_count": 0,
   "metadata": {
    "colab": {},
    "colab_type": "code",
    "id": "DrHcCwiRdNQU"
   },
   "outputs": [],
   "source": [
    "# define the classes\n",
    "classes = ['benign', 'malicious']"
   ]
  },
  {
   "cell_type": "code",
   "execution_count": 10,
   "metadata": {
    "colab": {
     "base_uri": "https://localhost:8080/",
     "height": 281
    },
    "colab_type": "code",
    "executionInfo": {
     "elapsed": 2107,
     "status": "ok",
     "timestamp": 1577368395119,
     "user": {
      "displayName": "Pierre Guillaume",
      "photoUrl": "",
      "userId": "10655844094589609234"
     },
     "user_tz": -60
    },
    "id": "PPX_zloNdQ2V",
    "outputId": "dbe18906-8729-4c04-c3c0-58b8a98cbafd"
   },
   "outputs": [
    {
     "data": {
      "image/png": "[encoded data removed]",
      "text/plain": [
       "<Figure size 432x288 with 1 Axes>"
      ]
     },
     "metadata": {
      "tags": []
     },
     "output_type": "display_data"
    }
   ],
   "source": [
    "# plot one image\n",
    "plt.figure()\n",
    "plt.imshow(x_train[200])\n",
    "plt.grid(False)\n",
    "plt.xlabel(classes[int(y_train[200])])\n",
    "plt.show()"
   ]
  },
  {
   "cell_type": "code",
   "execution_count": 11,
   "metadata": {
    "colab": {
     "base_uri": "https://localhost:8080/",
     "height": 364
    },
    "colab_type": "code",
    "executionInfo": {
     "elapsed": 1417,
     "status": "ok",
     "timestamp": 1577368398994,
     "user": {
      "displayName": "Pierre Guillaume",
      "photoUrl": "",
      "userId": "10655844094589609234"
     },
     "user_tz": -60
    },
    "id": "rZRbGbtxdUFK",
    "outputId": "f4d2fbd3-d1ec-479d-c3dc-181a28d19624"
   },
   "outputs": [
    {
     "data": {
      "image/png": "[encoded data removed]",
      "text/plain": [
       "<Figure size 720x720 with 15 Axes>"
      ]
     },
     "metadata": {
      "tags": []
     },
     "output_type": "display_data"
    }
   ],
   "source": [
    "# graphical representation of the malwares\n",
    "plt.figure(figsize=(10,10))\n",
    "cpt = 1\n",
    "for i in range(50000, 50015):\n",
    "  plt.subplot(5, 5, cpt)\n",
    "  plt.xticks([])\n",
    "  plt.yticks([])\n",
    "  plt.grid(False)\n",
    "  plt.imshow(x_train[i])\n",
    "  plt.xlabel(classes[int(y_train[i])])\n",
    "  cpt += 1\n",
    "plt.show()"
   ]
  },
  {
   "cell_type": "code",
   "execution_count": 0,
   "metadata": {
    "colab": {},
    "colab_type": "code",
    "id": "QC2ftO9ldYJy"
   },
   "outputs": [],
   "source": [
    "# reshape for CNN\n",
    "x_train = np.reshape(x_train, (600000, 48, 48, 1))\n",
    "# normalize pixels between [0, 1]\n",
    "x_train = x_train / 255.0"
   ]
  },
  {
   "cell_type": "code",
   "execution_count": 13,
   "metadata": {
    "colab": {
     "base_uri": "https://localhost:8080/",
     "height": 86
    },
    "colab_type": "code",
    "executionInfo": {
     "elapsed": 1041,
     "status": "ok",
     "timestamp": 1577368423696,
     "user": {
      "displayName": "Pierre Guillaume",
      "photoUrl": "",
      "userId": "10655844094589609234"
     },
     "user_tz": -60
    },
    "id": "9p9uZrUPdb8J",
    "outputId": "087494ab-002c-402e-bc05-e6ebeb63a691"
   },
   "outputs": [
    {
     "name": "stdout",
     "output_type": "stream",
     "text": [
      "(550000, 48, 48, 1)\n",
      "(550000,)\n",
      "(50000, 48, 48, 1)\n",
      "(50000,)\n"
     ]
    }
   ],
   "source": [
    "# split the data into two parts (training set and test set)\n",
    "x_train, x_test = x_train[:550000], x_train[550000:]\n",
    "y_train, y_test = y_train[:550000], y_train[550000:]\n",
    "\n",
    "print(x_train.shape)\n",
    "print(y_train.shape)\n",
    "print(x_test.shape)\n",
    "print(y_test.shape)"
   ]
  },
  {
   "cell_type": "code",
   "execution_count": 0,
   "metadata": {
    "colab": {},
    "colab_type": "code",
    "id": "gH5AZXKGdjU7"
   },
   "outputs": [],
   "source": [
    "from keras.models import Sequential, load_model\n",
    "from keras.layers import Conv2D, MaxPooling2D, Dense, Flatten"
   ]
  },
  {
   "cell_type": "code",
   "execution_count": 0,
   "metadata": {
    "colab": {},
    "colab_type": "code",
    "id": "wh4wKmSvdqMi"
   },
   "outputs": [],
   "source": [
    "# The CNN model\n",
    "model = Sequential()\n",
    "\n",
    "# stacking the conv model on our sequential neural network\n",
    "# First Conv layer\n",
    "model.add(Conv2D(32, (3, 3), activation='relu', input_shape=(48, 48, 1)))\n",
    "model.add(MaxPooling2D((2, 2)))\n",
    "\n",
    "# Second Conv\n",
    "model.add(Conv2D(64, (3, 3), activation='relu'))\n",
    "model.add(MaxPooling2D(2, 2))\n",
    "\n",
    "# Third Conv layer\n",
    "model.add(Conv2D(128, (3, 3), activation='relu'))\n",
    "\n",
    "# Input of the neural net\n",
    "model.add(Flatten())\n",
    "\n",
    "# Hidden layer\n",
    "model.add(Dense(400, activation='relu'))\n",
    "\n",
    "# output layer\n",
    "model.add(Dense(1, activation='sigmoid'))"
   ]
  },
  {
   "cell_type": "code",
   "execution_count": 16,
   "metadata": {
    "colab": {
     "base_uri": "https://localhost:8080/",
     "height": 434
    },
    "colab_type": "code",
    "executionInfo": {
     "elapsed": 1048,
     "status": "ok",
     "timestamp": 1577368456567,
     "user": {
      "displayName": "Pierre Guillaume",
      "photoUrl": "",
      "userId": "10655844094589609234"
     },
     "user_tz": -60
    },
    "id": "6HPqrh0ZfG9P",
    "outputId": "4de86122-6c3a-406f-db2f-4d2104d04936"
   },
   "outputs": [
    {
     "name": "stdout",
     "output_type": "stream",
     "text": [
      "Model: \"sequential_1\"\n",
      "_________________________________________________________________\n",
      "Layer (type)                 Output Shape              Param #   \n",
      "=================================================================\n",
      "conv2d_1 (Conv2D)            (None, 46, 46, 32)        320       \n",
      "_________________________________________________________________\n",
      "max_pooling2d_1 (MaxPooling2 (None, 23, 23, 32)        0         \n",
      "_________________________________________________________________\n",
      "conv2d_2 (Conv2D)            (None, 21, 21, 64)        18496     \n",
      "_________________________________________________________________\n",
      "max_pooling2d_2 (MaxPooling2 (None, 10, 10, 64)        0         \n",
      "_________________________________________________________________\n",
      "conv2d_3 (Conv2D)            (None, 8, 8, 128)         73856     \n",
      "_________________________________________________________________\n",
      "flatten_1 (Flatten)          (None, 8192)              0         \n",
      "_________________________________________________________________\n",
      "dense_1 (Dense)              (None, 400)               3277200   \n",
      "_________________________________________________________________\n",
      "dense_2 (Dense)              (None, 1)                 401       \n",
      "=================================================================\n",
      "Total params: 3,370,273\n",
      "Trainable params: 3,370,273\n",
      "Non-trainable params: 0\n",
      "_________________________________________________________________\n"
     ]
    }
   ],
   "source": [
    "model.summary()"
   ]
  },
  {
   "cell_type": "code",
   "execution_count": 0,
   "metadata": {
    "colab": {},
    "colab_type": "code",
    "id": "kp_mcGc3d54w"
   },
   "outputs": [],
   "source": [
    "# compile our model\n",
    "model.compile(optimizer='adam', loss='binary_crossentropy', metrics=['accuracy'])"
   ]
  },
  {
   "cell_type": "code",
   "execution_count": 18,
   "metadata": {
    "colab": {
     "base_uri": "https://localhost:8080/",
     "height": 139
    },
    "colab_type": "code",
    "executionInfo": {
     "elapsed": 459961,
     "status": "ok",
     "timestamp": 1577368950615,
     "user": {
      "displayName": "Pierre Guillaume",
      "photoUrl": "",
      "userId": "10655844094589609234"
     },
     "user_tz": -60
    },
    "id": "7szHH-uFd633",
    "outputId": "63db230e-af50-4b71-9439-eadb94bf7337"
   },
   "outputs": [
    {
     "name": "stdout",
     "output_type": "stream",
     "text": [
      "440000/440000 [==============================] - 134s 305us/step - loss: 0.1584 - acc: 0.9357 - val_loss: 0.1005 - val_acc: 0.9641\n",
      "Epoch 2/4\n",
      "440000/440000 [==============================] - 120s 272us/step - loss: 0.0927 - acc: 0.9648 - val_loss: 0.0847 - val_acc: 0.9702\n",
      "Epoch 3/4\n",
      "440000/440000 [==============================] - 109s 248us/step - loss: 0.0749 - acc: 0.9726 - val_loss: 0.0775 - val_acc: 0.9752\n",
      "Epoch 4/4\n",
      "440000/440000 [==============================] - 112s 254us/step - loss: 0.0644 - acc: 0.9765 - val_loss: 0.0709 - val_acc: 0.9772\n"
     ]
    }
   ],
   "source": [
    "# fit our model\n",
    "history = model.fit(x_train, y_train, validation_split=0.2, epochs=4, shuffle=True)"
   ]
  },
  {
   "cell_type": "code",
   "execution_count": 19,
   "metadata": {
    "colab": {
     "base_uri": "https://localhost:8080/",
     "height": 295
    },
    "colab_type": "code",
    "executionInfo": {
     "elapsed": 927,
     "status": "ok",
     "timestamp": 1577368953816,
     "user": {
      "displayName": "Pierre Guillaume",
      "photoUrl": "",
      "userId": "10655844094589609234"
     },
     "user_tz": -60
    },
    "id": "arDlGopEeA-z",
    "outputId": "efc8a5b6-508b-4fa4-8d97-4d7111e172a7"
   },
   "outputs": [
    {
     "data": {
      "image/png": "[encoded data removed]",
      "text/plain": [
       "<Figure size 432x288 with 1 Axes>"
      ]
     },
     "metadata": {
      "tags": []
     },
     "output_type": "display_data"
    }
   ],
   "source": [
    "# evaluate our model\n",
    "\n",
    "plt.plot(history.history['acc'])\n",
    "plt.plot(history.history['val_acc'])\n",
    "plt.title('Model accuracy')\n",
    "plt.ylabel('Accuracy')\n",
    "plt.xlabel('Epoch')\n",
    "plt.legend(['Train', 'Test'], loc='upper left')\n",
    "plt.show()"
   ]
  },
  {
   "cell_type": "code",
   "execution_count": 0,
   "metadata": {
    "colab": {},
    "colab_type": "code",
    "id": "yBqzHWbNgkxR"
   },
   "outputs": [],
   "source": [
    "# save the model\n",
    "model.save('drive/My Drive/models_save/cnn.h5')"
   ]
  },
  {
   "cell_type": "code",
   "execution_count": 0,
   "metadata": {
    "colab": {},
    "colab_type": "code",
    "id": "j4xXuzZ6gqp7"
   },
   "outputs": [],
   "source": [
    "model_ = load_model('drive/My Drive/models_save/cnn.h5')"
   ]
  },
  {
   "cell_type": "code",
   "execution_count": 24,
   "metadata": {
    "colab": {
     "base_uri": "https://localhost:8080/",
     "height": 52
    },
    "colab_type": "code",
    "executionInfo": {
     "elapsed": 4820,
     "status": "ok",
     "timestamp": 1577369006160,
     "user": {
      "displayName": "Pierre Guillaume",
      "photoUrl": "",
      "userId": "10655844094589609234"
     },
     "user_tz": -60
    },
    "id": "sMwkHCACgU3h",
    "outputId": "171365f3-e6a5-4608-e6e5-885b6d6200c5"
   },
   "outputs": [
    {
     "name": "stdout",
     "output_type": "stream",
     "text": [
      "loss: 0.059726288664639\n",
      "acc: 0.98006\n"
     ]
    }
   ],
   "source": [
    "# evaluate our model\n",
    "loss, acc = model_.evaluate(x_test, y_test, verbose=2)\n",
    "\n",
    "print(\"loss: \" + str(loss))\n",
    "print(\"acc: \" + str(acc))"
   ]
  },
  {
   "cell_type": "code",
   "execution_count": 0,
   "metadata": {
    "colab": {},
    "colab_type": "code",
    "id": "0dFGR_2ThNyQ"
   },
   "outputs": [],
   "source": []
  }
 ],
 "metadata": {
  "accelerator": "GPU",
  "colab": {
   "name": "CNN_classif.ipynb",
   "provenance": []
  },
  "kernelspec": {
   "display_name": "Python 3",
   "language": "python",
   "name": "python3"
  },
  "language_info": {
   "codemirror_mode": {
    "name": "ipython",
    "version": 3
   },
   "file_extension": ".py",
   "mimetype": "text/x-python",
   "name": "python",
   "nbconvert_exporter": "python",
   "pygments_lexer": "ipython3",
   "version": "3.7.4"
  }
 },
 "nbformat": 4,
 "nbformat_minor": 1
}
