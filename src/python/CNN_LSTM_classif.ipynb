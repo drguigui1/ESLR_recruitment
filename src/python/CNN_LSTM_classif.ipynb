{
 "cells": [
  {
   "cell_type": "code",
   "execution_count": 1,
   "metadata": {
    "colab": {
     "base_uri": "https://localhost:8080/",
     "height": 124
    },
    "colab_type": "code",
    "id": "n4njLZodbhdQ",
    "outputId": "72e997f5-8e23-494f-c4d5-92f3ef8874a7"
   },
   "outputs": [
    {
     "name": "stdout",
     "output_type": "stream",
     "text": [
      "Go to this URL in a browser: https://accounts.google.com/o/oauth2/auth?client_id=947318989803-6bn6qk8qdgf4n4g3pfee6491hc0brc4i.apps.googleusercontent.com&redirect_uri=urn%3aietf%3awg%3aoauth%3a2.0%3aoob&response_type=code&scope=email%20https%3a%2f%2fwww.googleapis.com%2fauth%2fdocs.test%20https%3a%2f%2fwww.googleapis.com%2fauth%2fdrive%20https%3a%2f%2fwww.googleapis.com%2fauth%2fdrive.photos.readonly%20https%3a%2f%2fwww.googleapis.com%2fauth%2fpeopleapi.readonly\n",
      "\n",
      "Enter your authorization code:\n",
      "··········\n",
      "Mounted at /content/drive\n"
     ]
    }
   ],
   "source": [
    "from google.colab import drive\n",
    "drive.mount('/content/drive')"
   ]
  },
  {
   "cell_type": "code",
   "execution_count": 0,
   "metadata": {
    "colab": {},
    "colab_type": "code",
    "id": "rbSEh3U2b8iq"
   },
   "outputs": [],
   "source": [
    "import numpy as np\n",
    "from sklearn import preprocessing\n",
    "import matplotlib.pyplot as plt"
   ]
  },
  {
   "cell_type": "code",
   "execution_count": 0,
   "metadata": {
    "colab": {},
    "colab_type": "code",
    "id": "Ut0lwt_-cMVY"
   },
   "outputs": [],
   "source": [
    "x_train = np.memmap('drive/My Drive/Xtrain.dat', shape=(600000, 2351), dtype=np.float32)\n",
    "y_train = np.memmap('drive/My Drive/Ytrain.dat', dtype=np.float32)\n",
    "# 0 for benign (nb of elm => 300000)\n",
    "# 1 for malicious (nb of elm => 300000)"
   ]
  },
  {
   "cell_type": "code",
   "execution_count": 4,
   "metadata": {
    "colab": {
     "base_uri": "https://localhost:8080/",
     "height": 243
    },
    "colab_type": "code",
    "id": "sBYddPdlcO8r",
    "outputId": "4c507283-a97f-4bf7-e231-33dcb65ae56f"
   },
   "outputs": [
    {
     "name": "stdout",
     "output_type": "stream",
     "text": [
      "[[  3.7433937   1.3417011   1.5087795 ...   0.          0.\n",
      "    0.       ]\n",
      " [ 18.43898     4.467576    4.2452645 ...   0.          0.\n",
      "    0.       ]\n",
      " [ 47.065903    9.949453    2.189625  ...   0.          0.\n",
      "    0.       ]\n",
      " ...\n",
      " [134.32236     2.8423796   2.7915328 ...   0.          0.\n",
      "    0.       ]\n",
      " [129.39911     3.1475294   1.9884748 ...   0.          0.\n",
      "    0.       ]\n",
      " [174.9149      1.3446283   1.5648073 ...   0.          0.\n",
      "    0.       ]]\n"
     ]
    }
   ],
   "source": [
    "print(x_train)"
   ]
  },
  {
   "cell_type": "code",
   "execution_count": 5,
   "metadata": {
    "colab": {
     "base_uri": "https://localhost:8080/",
     "height": 34
    },
    "colab_type": "code",
    "id": "mjqsCkfjXKNR",
    "outputId": "76fd245a-5074-4578-fc05-b6f75f7f84bc"
   },
   "outputs": [
    {
     "name": "stdout",
     "output_type": "stream",
     "text": [
      "[0. 0. 0. ... 1. 1. 1.]\n"
     ]
    }
   ],
   "source": [
    "print(y_train)"
   ]
  },
  {
   "cell_type": "code",
   "execution_count": 6,
   "metadata": {
    "colab": {
     "base_uri": "https://localhost:8080/",
     "height": 52
    },
    "colab_type": "code",
    "id": "EapbbvsnXLJR",
    "outputId": "22913143-51ed-4120-a16c-8ff245e15fb6"
   },
   "outputs": [
    {
     "name": "stdout",
     "output_type": "stream",
     "text": [
      "(600000, 2351)\n",
      "(600000, 2304)\n"
     ]
    }
   ],
   "source": [
    "# dimension reduction\n",
    "print(x_train.shape)\n",
    "x_train = np.delete(x_train, np.s_[-47:], axis=1)\n",
    "print(x_train.shape)"
   ]
  },
  {
   "cell_type": "code",
   "execution_count": 0,
   "metadata": {
    "colab": {},
    "colab_type": "code",
    "id": "jsRb0LdwXbS0"
   },
   "outputs": [],
   "source": [
    "# normalize the data (pixels range [0, 255])\n",
    "min_max_scaler = preprocessing.MinMaxScaler((0, 255), copy=False)\n",
    "x_train = min_max_scaler.fit_transform(x_train)"
   ]
  },
  {
   "cell_type": "code",
   "execution_count": 8,
   "metadata": {
    "colab": {
     "base_uri": "https://localhost:8080/",
     "height": 243
    },
    "colab_type": "code",
    "id": "cBH_7TzyX84N",
    "outputId": "b33dc820-087e-4713-89fb-683a3e632b56"
   },
   "outputs": [
    {
     "name": "stdout",
     "output_type": "stream",
     "text": [
      "[[  3.7148898   1.3417011   1.5087795 ...  27.967741  151.48515\n",
      "  194.90779  ]\n",
      " [ 18.410475    4.467576    4.2452645 ...  27.967741  151.48515\n",
      "  194.90779  ]\n",
      " [ 47.037395    9.949453    2.189625  ...  27.967741  151.48515\n",
      "  194.90779  ]\n",
      " ...\n",
      " [134.29384     2.8423796   2.7915328 ...  27.967741  151.48515\n",
      "  194.90779  ]\n",
      " [129.37059     3.1475294   1.9884748 ...  27.967741  151.48515\n",
      "  194.90779  ]\n",
      " [174.88638     1.3446283   1.5648073 ...  27.967741  151.48515\n",
      "  194.90779  ]]\n"
     ]
    }
   ],
   "source": [
    "print(x_train)"
   ]
  },
  {
   "cell_type": "code",
   "execution_count": 0,
   "metadata": {
    "colab": {},
    "colab_type": "code",
    "id": "LHFLfT9WX_bU"
   },
   "outputs": [],
   "source": [
    "# reshape the data to consider vectors as images\n",
    "x_train = np.reshape(x_train, (600000, 48, 48))"
   ]
  },
  {
   "cell_type": "code",
   "execution_count": 0,
   "metadata": {
    "colab": {},
    "colab_type": "code",
    "id": "jhBdkXhAYC7o"
   },
   "outputs": [],
   "source": [
    "# define the classes\n",
    "classes = ['benign', 'malicious']"
   ]
  },
  {
   "cell_type": "code",
   "execution_count": 11,
   "metadata": {
    "colab": {
     "base_uri": "https://localhost:8080/",
     "height": 364
    },
    "colab_type": "code",
    "id": "sWW6lVmVYKm1",
    "outputId": "e81d8390-b540-44c3-fa1b-f04e83b81c8e"
   },
   "outputs": [
    {
     "data": {
      "image/png": "[encoded data removed]",
      "text/plain": [
       "<Figure size 720x720 with 15 Axes>"
      ]
     },
     "metadata": {
      "tags": []
     },
     "output_type": "display_data"
    }
   ],
   "source": [
    "# graphical representation of the malwares\n",
    "plt.figure(figsize=(10,10))\n",
    "cpt = 1\n",
    "for i in range(50000, 50015):\n",
    "  plt.subplot(5, 5, cpt)\n",
    "  plt.xticks([])\n",
    "  plt.yticks([])\n",
    "  plt.grid(False)\n",
    "  plt.imshow(x_train[i], 'gray')\n",
    "  plt.xlabel(classes[int(y_train[i])])\n",
    "  cpt += 1\n",
    "plt.show()"
   ]
  },
  {
   "cell_type": "code",
   "execution_count": 0,
   "metadata": {
    "colab": {},
    "colab_type": "code",
    "id": "2LjwI9LpYitt"
   },
   "outputs": [],
   "source": [
    "# reshape data for the input of the CNN-LSTM\n",
    "x_train = np.reshape(x_train, (600000, 48, 48, 1))\n",
    "# normalization of the pixels (easier training) [0, 1]\n",
    "x_train = x_train / 255.0"
   ]
  },
  {
   "cell_type": "code",
   "execution_count": 13,
   "metadata": {
    "colab": {
     "base_uri": "https://localhost:8080/",
     "height": 86
    },
    "colab_type": "code",
    "id": "M8FDqSKlZ4yC",
    "outputId": "97326d44-769f-4542-fd09-8cee8aabe37f"
   },
   "outputs": [
    {
     "name": "stdout",
     "output_type": "stream",
     "text": [
      "(550000, 48, 48, 1)\n",
      "(550000,)\n",
      "(50000, 48, 48, 1)\n",
      "(50000,)\n"
     ]
    }
   ],
   "source": [
    "# split the data into two parts (training set and test set)\n",
    "x_train, x_test = x_train[:550000], x_train[550000:]\n",
    "y_train, y_test = y_train[:550000], y_train[550000:]\n",
    "\n",
    "print(x_train.shape)\n",
    "print(y_train.shape)\n",
    "print(x_test.shape)\n",
    "print(y_test.shape)"
   ]
  },
  {
   "cell_type": "code",
   "execution_count": 0,
   "metadata": {
    "colab": {},
    "colab_type": "code",
    "id": "6Zt8p5jqZ_Q8"
   },
   "outputs": [],
   "source": [
    "from keras.models import Sequential, load_model\n",
    "from keras.layers import Conv2D, MaxPooling2D, Dense, Flatten, LSTM, TimeDistributed, Reshape\n",
    "from keras import optimizers\n",
    "\n",
    "from keras.backend import sigmoid\n",
    "from keras.utils.generic_utils import get_custom_objects\n",
    "from keras.layers import Activation"
   ]
  },
  {
   "cell_type": "code",
   "execution_count": 0,
   "metadata": {
    "colab": {},
    "colab_type": "code",
    "id": "Uax2gAoxzKh0"
   },
   "outputs": [],
   "source": [
    "# definition of the swish activation funtion for tests\n",
    "def swish(x):\n",
    "  return x * sigmoid(x)\n",
    "\n",
    "get_custom_objects().update({'swish': Activation(swish)})"
   ]
  },
  {
   "cell_type": "code",
   "execution_count": 0,
   "metadata": {
    "colab": {},
    "colab_type": "code",
    "id": "x6-qXitHapvi"
   },
   "outputs": [],
   "source": [
    "# create the model of CNN-LSTM\n",
    "\n",
    "# CNN part\n",
    "model = Sequential()\n",
    "\n",
    "model.add(Conv2D(16, (3, 3), activation='swish', input_shape=(48, 48, 1)))\n",
    "model.add(MaxPooling2D(2, 2))\n",
    "\n",
    "model.add(Conv2D(32, (3, 3), activation='swish'))\n",
    "model.add(MaxPooling2D(2, 2))\n",
    "\n",
    "# transition\n",
    "model.add(Flatten())\n",
    "model.add(Dense(400, activation='swish'))\n",
    "model.add(Reshape((1, 400)))\n",
    "\n",
    "# LSTM part\n",
    "model.add(LSTM(16, activation='swish', input_shape=(1, 400)))\n",
    "model.add(Dense(1, activation='sigmoid'))"
   ]
  },
  {
   "cell_type": "code",
   "execution_count": 17,
   "metadata": {
    "colab": {
     "base_uri": "https://localhost:8080/",
     "height": 469
    },
    "colab_type": "code",
    "id": "e6UDYFq_q8EP",
    "outputId": "9368cfc3-d918-4d1a-ca72-b1901512a2bd"
   },
   "outputs": [
    {
     "name": "stdout",
     "output_type": "stream",
     "text": [
      "Model: \"sequential_1\"\n",
      "_________________________________________________________________\n",
      "Layer (type)                 Output Shape              Param #   \n",
      "=================================================================\n",
      "conv2d_1 (Conv2D)            (None, 46, 46, 16)        160       \n",
      "_________________________________________________________________\n",
      "max_pooling2d_1 (MaxPooling2 (None, 23, 23, 16)        0         \n",
      "_________________________________________________________________\n",
      "conv2d_2 (Conv2D)            (None, 21, 21, 32)        4640      \n",
      "_________________________________________________________________\n",
      "max_pooling2d_2 (MaxPooling2 (None, 10, 10, 32)        0         \n",
      "_________________________________________________________________\n",
      "flatten_1 (Flatten)          (None, 3200)              0         \n",
      "_________________________________________________________________\n",
      "dense_1 (Dense)              (None, 400)               1280400   \n",
      "_________________________________________________________________\n",
      "reshape_1 (Reshape)          (None, 1, 400)            0         \n",
      "_________________________________________________________________\n",
      "lstm_1 (LSTM)                (None, 16)                26688     \n",
      "_________________________________________________________________\n",
      "dense_2 (Dense)              (None, 1)                 17        \n",
      "=================================================================\n",
      "Total params: 1,311,905\n",
      "Trainable params: 1,311,905\n",
      "Non-trainable params: 0\n",
      "_________________________________________________________________\n"
     ]
    }
   ],
   "source": [
    "model.summary()"
   ]
  },
  {
   "cell_type": "code",
   "execution_count": 0,
   "metadata": {
    "colab": {},
    "colab_type": "code",
    "id": "gHuBW4N2pGph"
   },
   "outputs": [],
   "source": [
    "# compile model\n",
    "adm = optimizers.adam(lr=0.001, beta_1=0.9, beta_2=0.999)\n",
    "model.compile(loss='binary_crossentropy', optimizer=adm, metrics=['accuracy'])"
   ]
  },
  {
   "cell_type": "code",
   "execution_count": 19,
   "metadata": {
    "colab": {
     "base_uri": "https://localhost:8080/",
     "height": 139
    },
    "colab_type": "code",
    "id": "dgMk9egDtycO",
    "outputId": "4c818ffe-c908-44bc-8c2c-3ffa9835b8e0"
   },
   "outputs": [
    {
     "name": "stdout",
     "output_type": "stream",
     "text": [
      "467500/467500 [==============================] - 170s 364us/step - loss: 0.1622 - acc: 0.9340 - val_loss: 0.0981 - val_acc: 0.9619\n",
      "Epoch 2/4\n",
      "467500/467500 [==============================] - 150s 321us/step - loss: 0.1003 - acc: 0.9620 - val_loss: 0.0713 - val_acc: 0.9756\n",
      "Epoch 3/4\n",
      "467500/467500 [==============================] - 152s 324us/step - loss: 0.0811 - acc: 0.9699 - val_loss: 0.0572 - val_acc: 0.9781\n",
      "Epoch 4/4\n",
      "467500/467500 [==============================] - 149s 318us/step - loss: 0.0692 - acc: 0.9747 - val_loss: 0.0517 - val_acc: 0.9811\n"
     ]
    }
   ],
   "source": [
    "# fit our model\n",
    "history = model.fit(x_train, y_train, validation_split=0.15, epochs=4, shuffle=True)"
   ]
  },
  {
   "cell_type": "code",
   "execution_count": 20,
   "metadata": {
    "colab": {
     "base_uri": "https://localhost:8080/",
     "height": 295
    },
    "colab_type": "code",
    "id": "vBjBForHt_JG",
    "outputId": "422159a9-4e2f-4ed3-fd3f-20d47e164baa"
   },
   "outputs": [
    {
     "data": {
      "image/png": "[encoded data removed]",
      "text/plain": [
       "<Figure size 432x288 with 1 Axes>"
      ]
     },
     "metadata": {
      "tags": []
     },
     "output_type": "display_data"
    }
   ],
   "source": [
    "# evaluate our model\n",
    "\n",
    "plt.plot(history.history['acc'])\n",
    "plt.plot(history.history['val_acc'])\n",
    "plt.title('Model accuracy')\n",
    "plt.ylabel('Accuracy')\n",
    "plt.xlabel('Epoch')\n",
    "plt.legend(['Train', 'Test'], loc='upper left')\n",
    "plt.show()"
   ]
  },
  {
   "cell_type": "code",
   "execution_count": 22,
   "metadata": {
    "colab": {
     "base_uri": "https://localhost:8080/",
     "height": 52
    },
    "colab_type": "code",
    "id": "Sw8cqzi9wDZ_",
    "outputId": "d37b7f99-9ff1-47d7-a3f0-75add1a9486c"
   },
   "outputs": [
    {
     "name": "stdout",
     "output_type": "stream",
     "text": [
      "loss: 0.04545454722076654\n",
      "acc: 0.98194\n"
     ]
    }
   ],
   "source": [
    "loss, acc = model.evaluate(x_test, y_test, verbose=2)\n",
    "print(\"loss: \" + str(loss))\n",
    "print(\"acc: \" + str(acc))"
   ]
  },
  {
   "cell_type": "code",
   "execution_count": 0,
   "metadata": {
    "colab": {},
    "colab_type": "code",
    "id": "M1sxXUOXwILi"
   },
   "outputs": [],
   "source": []
  }
 ],
 "metadata": {
  "accelerator": "GPU",
  "colab": {
   "machine_shape": "hm",
   "name": "CNN_LSTM_classif.ipynb",
   "provenance": []
  },
  "kernelspec": {
   "display_name": "Python 3",
   "language": "python",
   "name": "python3"
  },
  "language_info": {
   "codemirror_mode": {
    "name": "ipython",
    "version": 3
   },
   "file_extension": ".py",
   "mimetype": "text/x-python",
   "name": "python",
   "nbconvert_exporter": "python",
   "pygments_lexer": "ipython3",
   "version": "3.7.4"
  }
 },
 "nbformat": 4,
 "nbformat_minor": 1
}
